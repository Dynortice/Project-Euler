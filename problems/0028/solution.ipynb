{
 "cells": [
  {
   "cell_type": "markdown",
   "metadata": {
    "collapsed": true,
    "pycharm": {
     "name": "#%% md\n"
    }
   },
   "source": [
    "# Problem 28\n",
    "## Number spiral diagonals\n",
    "\n",
    "Starting with the number $1$ and moving to the right in a clockwise direction a 5 by 5 spiral is formed as follows:\n",
    "\n",
    "```\n",
    "21, 22, 23, 24, 25\n",
    "20,  7,  8,  9, 10\n",
    "19,  6,  1,  2, 11\n",
    "18,  5,  4,  3, 12\n",
    "17, 16, 15, 14, 13\n",
    "```\n",
    "It can be verified that the sum of the numbers on the diagonals is $101$.\n",
    "\n",
    "What is the sum of the numbers on the diagonals in a $1001$ by $1001$ spiral formed in the same way?\n",
    "\n",
    "OEIS Sequence: [A200975](https://oeis.org/A200975)\n",
    "\n",
    "## Solution\n",
    "\n",
    "Considering on $4$ diagonals we'll get $4$ sequences:\n",
    "\n",
    "$$a_n = (9, 25, 49, 81, 121, 169, 225...) = 4n^2 + 4n + 1$$\n",
    "\n",
    "$$b_n = (7, 21, 43, 73, 111, 157, 211...) = 4n^2 + 2n + 1$$\n",
    "\n",
    "$$c_n = (5, 17, 37, 65, 101, 145, 197...) = 4n^2 + 1$$\n",
    "\n",
    "$$d_n = (3, 13, 31, 59, 91, 132, 183...) = 4n^2 - 2n + 1$$\n",
    "\n",
    "For answer we need just find sum of these sequences plus $1$ for middle element.\n",
    "\n",
    "$$s_n = 1 + \\sum^n_{i=1}(a_i + b_i + c_i + d_i) = $$\n",
    "\n",
    "$$= 1 + \\sum^n_{i=1}(4i^2 + 4i + 1 + 4i^2 + 2i + 1 + 4i^2 + 1 + 4i^2 - 2i + 1) = 1 + \\sum^n_{i=1}(16i^2 + 4i+ 4) =$$\n",
    "\n",
    "$$= 1 + 16\\sum^n_{i=1}i^2 + 4\\sum^n_{i=1}i + \\sum^n_{i=1}4 = 1 + \\frac{8n(n + 1)(2n + 1)}{3} + 2n(n + 1) + 4n =$$\n",
    "\n",
    "$$= 1 + \\frac{2n(8n^2 + 15n + 13)}{3}$$\n",
    "\n",
    "Since we divided diagonals by two and excluded middle element our need looks like $n = \\frac{N - 1}{2}$ where $N$ is size of spiral.\n",
    "\n",
    "At the last we could simplify solution using [Horner's method](https://en.wikipedia.org/wiki/Horner%27s_method):\n",
    "\n",
    "$$1 + \\frac{\\left(N - 1\\right)\\left(8\\left(\\frac{N - 1}{2}\\right)^2 + 15\\frac{N - 1}{2} + 13\\right)}{3} = \\frac{n \\left(n \\left(4n + 3\\right) + 8\\right) - 9}{6}$$"
   ]
  },
  {
   "cell_type": "code",
   "execution_count": 1,
   "outputs": [],
   "source": [
    "def compute(n: int) -> int:\n",
    "    return (((4 * n + 3) * n + 8) * n - 9) // 6"
   ],
   "metadata": {
    "collapsed": false,
    "pycharm": {
     "name": "#%%\n"
    }
   }
  },
  {
   "cell_type": "code",
   "execution_count": 2,
   "outputs": [
    {
     "data": {
      "text/plain": "101"
     },
     "execution_count": 2,
     "metadata": {},
     "output_type": "execute_result"
    }
   ],
   "source": [
    "compute(5)"
   ],
   "metadata": {
    "collapsed": false,
    "pycharm": {
     "name": "#%%\n"
    }
   }
  },
  {
   "cell_type": "code",
   "execution_count": 3,
   "outputs": [
    {
     "data": {
      "text/plain": "669171001"
     },
     "execution_count": 3,
     "metadata": {},
     "output_type": "execute_result"
    }
   ],
   "source": [
    "compute(1001)"
   ],
   "metadata": {
    "collapsed": false,
    "pycharm": {
     "name": "#%%\n"
    }
   }
  },
  {
   "cell_type": "code",
   "execution_count": 4,
   "outputs": [
    {
     "name": "stdout",
     "output_type": "stream",
     "text": [
      "380 ns ± 0 ns per loop (mean ± std. dev. of 1 run, 100 loops each)\n"
     ]
    }
   ],
   "source": [
    "%timeit -n 100 -r 1 -p 6 compute(1001)"
   ],
   "metadata": {
    "collapsed": false,
    "pycharm": {
     "name": "#%%\n"
    }
   }
  }
 ],
 "metadata": {
  "kernelspec": {
   "display_name": "Python 3",
   "language": "python",
   "name": "python3"
  },
  "language_info": {
   "codemirror_mode": {
    "name": "ipython",
    "version": 2
   },
   "file_extension": ".py",
   "mimetype": "text/x-python",
   "name": "python",
   "nbconvert_exporter": "python",
   "pygments_lexer": "ipython2",
   "version": "2.7.6"
  }
 },
 "nbformat": 4,
 "nbformat_minor": 0
}