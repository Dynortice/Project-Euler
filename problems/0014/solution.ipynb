{
 "cells": [
  {
   "cell_type": "markdown",
   "metadata": {
    "collapsed": true,
    "pycharm": {
     "name": "#%% md\n"
    }
   },
   "source": [
    "# Problem 14\n",
    "## Longest Collatz sequence\n",
    "The following iterative sequence is defined for the set of positive integers:\n",
    "\n",
    "$$n = \\begin {cases} \\displaystyle \\frac {n}{2} & \\quad \\text {if } n \\text { is even}\\\\ 3 \\times n + 1 & \\quad \\text {if } n \\text { is odd}\\end {cases}$$\n",
    "\n",
    "Using the rule above and starting with $13$, we generate the following sequence:\n",
    "\n",
    "$$13 \\to 40 \\to 20 \\to 10 \\to 5 \\to 16 \\to 8 \\to 4 \\to 2 \\to 1$$\n",
    "\n",
    "It can be seen that this sequence (starting at $13$ and finishing at $1$) contains $10$ terms. Although it has not been proved yet (Collatz Problem), it is thought that all starting numbers finish at $1$.\n",
    "\n",
    "Which starting number, under one million, produces the longest chain?\n",
    "\n",
    "**NOTE**: Once the chain starts the terms are allowed to go above one million.\n",
    "\n",
    "## Solution\n",
    "For decreasing number of iterations we could use memoization. Also we can skip one step when $n$ is odd 'coz if $n$ is odd then $3n+1$ always even."
   ]
  },
  {
   "cell_type": "code",
   "execution_count": 1,
   "outputs": [],
   "source": [
    "from euler.calculus import len_collatz_chain"
   ],
   "metadata": {
    "collapsed": false,
    "pycharm": {
     "name": "#%%\n"
    }
   }
  },
  {
   "cell_type": "code",
   "execution_count": 2,
   "outputs": [],
   "source": [
    "def compute(n: int) -> int:\n",
    "    result, max_chain, hashmap = 0, 0, {1: 1}\n",
    "    for i in range(2, n):\n",
    "        if len_collatz_chain(i, hashmap) > max_chain:\n",
    "            result, max_chain = i, hashmap[i]\n",
    "    return result"
   ],
   "metadata": {
    "collapsed": false,
    "pycharm": {
     "name": "#%%\n"
    }
   }
  },
  {
   "cell_type": "code",
   "execution_count": 3,
   "outputs": [
    {
     "data": {
      "text/plain": "837799"
     },
     "execution_count": 3,
     "metadata": {},
     "output_type": "execute_result"
    }
   ],
   "source": [
    "compute(1000000)"
   ],
   "metadata": {
    "collapsed": false,
    "pycharm": {
     "name": "#%%\n"
    }
   }
  },
  {
   "cell_type": "code",
   "execution_count": 4,
   "outputs": [
    {
     "name": "stdout",
     "output_type": "stream",
     "text": [
      "899.137 ms ± 0 ns per loop (mean ± std. dev. of 1 run, 100 loops each)\n"
     ]
    }
   ],
   "source": [
    "%timeit -n 100 -r 1 -p 6 compute(1000000)"
   ],
   "metadata": {
    "collapsed": false,
    "pycharm": {
     "name": "#%%\n"
    }
   }
  }
 ],
 "metadata": {
  "kernelspec": {
   "display_name": "Python 3",
   "language": "python",
   "name": "python3"
  },
  "language_info": {
   "codemirror_mode": {
    "name": "ipython",
    "version": 2
   },
   "file_extension": ".py",
   "mimetype": "text/x-python",
   "name": "python",
   "nbconvert_exporter": "python",
   "pygments_lexer": "ipython2",
   "version": "2.7.6"
  }
 },
 "nbformat": 4,
 "nbformat_minor": 0
}