{
 "cells": [
  {
   "cell_type": "markdown",
   "source": [
    "# Problem 54\n",
    "## Poker hands\n",
    "\n",
    "In the card game poker, a hand consists of five card and are ranked, from lowest to highest in following way:\n",
    "\n",
    "- **High Card**: Highest value card.\n",
    "- **One Pair**: Two cards of the same value.\n",
    "- **Two Pairs**: Two different pairs.\n",
    "- **Three of a Kind**: Three cards of the same value.\n",
    "- **Straight**: All cards are consecutive values.\n",
    "- **Flush**: All card of the same suit.\n",
    "- **Full House**: Three of a kind and pair.\n",
    "- **Four of a Kind**: Four cards of the same value.\n",
    "- **Straight Flush**: All cards are consecutive values of same suit.\n",
    "- **Royal Flush**: Ten, Jack, Queen, King, Ace, in same suit.\n",
    "\n",
    "The cards are valued in the order: 2, 3, 4, 5, 6, 7, 8, 9, 10, Jack, Queen, King, Ace.\n",
    "\n",
    "If two players have the same ranked hands then the rank made up of the highest value wins; for example, a pair of eights beats a pair of fives (see example 1 below). But if two ranks tie, for example, both players have a pair of queens, then highest cards in each hand are compared (see example 4 below); if the highest cards tie then the next highest cards are compared, and so on.\n",
    "\n",
    "Consider the following five hands dealt to two players:\n",
    "\n",
    "Hand | Player 1 | Player 2 | Winner\n",
    ":-: | :-: | :-: | :-:\n",
    "**1** | 5H 5C 6S 7S KD <br> Pair of Fives | 2C 3S 8S 8D TD <br> Pair of Eights | Player 2\n",
    "**2** | 5D 8C 9S JS AC <br> Highest card Ace | 2C 5C 7D 8S QH <br> Highest card Queen | Player 1\n",
    "**3** | 2D 9C AS AH AC <br> Three Aces | 3D 6D 5D TD QD <br> Flush with Diamonds | Player 2\n",
    "**4** | 4D 6S 9H QH QC <br> Pair of Queens <br> Highest card Nine | 3D 6D 7H QD QS <br> Pair of Queens <br> Highest card Seven | Player 1\n",
    "**5** | 2H 2D 4C 4D 4S <br> Full House <br> with Three Fours | 3C 3D 3S 9S 9D <br> Full House <br> with Three Threes | Player 1\n",
    "\n",
    "The file, [poker.txt](https://projecteuler.net/project/resources/p054_poker.txt), contains one-thousand random hands dealt to two players. Each line of the file contains ten cards (separated by a single space): the first five are Player 1's cards and the last five are Player 2's cards. You can assume that all hands are valid (no invalid characters or repeated cards), each player's hand is in no specific order, and in each hand there is a clear winner.\n",
    "\n",
    "How many hands does Player 1 win?\n",
    "\n",
    "## Solution"
   ],
   "metadata": {
    "collapsed": false
   }
  },
  {
   "cell_type": "code",
   "execution_count": 1,
   "outputs": [],
   "source": [
    "from collections import Counter"
   ],
   "metadata": {
    "collapsed": false,
    "pycharm": {
     "name": "#%%\n"
    }
   }
  },
  {
   "cell_type": "code",
   "execution_count": 2,
   "outputs": [],
   "source": [
    "def compute(path: str) -> int:\n",
    "    def is_flush(suits: list) -> bool:\n",
    "        return len(set(suits)) == 1\n",
    "\n",
    "    def is_royal(values: list) -> bool:\n",
    "        return sum(values) == 50\n",
    "\n",
    "    def is_consecutive(values: list, hand_value: int) -> bool:\n",
    "        return sum(values) == 5 * (hand_value - 2)\n",
    "\n",
    "    def get_rank_value(counted_values: Counter) -> int:\n",
    "        return max(value for value, kinds in counted_values.items() if kinds == max(counted_values.values()))\n",
    "\n",
    "    def get_rank(cards: list) -> (str, int, int):\n",
    "        values, suits = [card_ranks[card[0]] for card in cards], [card[1] for card in cards]\n",
    "        counted_values, hand_value = Counter(values), max(values)\n",
    "        unique_values = len(counted_values)\n",
    "        if unique_values == 5:\n",
    "            if is_flush(suits):\n",
    "                if is_consecutive(values, hand_value):\n",
    "                    rank = 'Royal Flush' if is_royal(values) else 'Straight Flush'\n",
    "                else:\n",
    "                    rank = 'Flush'\n",
    "            elif is_consecutive(values, hand_value):\n",
    "                rank = 'Straight'\n",
    "            else:\n",
    "                rank = 'High Card'\n",
    "            rank_value = hand_value\n",
    "        else:\n",
    "            if unique_values == 4:\n",
    "                rank = 'One Pair'\n",
    "            elif unique_values == 3:\n",
    "                rank = 'Three of a Kind' if max(counted_values.values()) == 3 else 'Two Pairs'\n",
    "            else:\n",
    "                rank = 'Four of a Kind' if max(counted_values.values()) == 4 else 'Full House'\n",
    "            rank_value = get_rank_value(counted_values)\n",
    "        return rank, rank_value, hand_value\n",
    "\n",
    "    def is_winner(hands: [str]) -> bool:\n",
    "        player_1, player_2 = map(get_rank, [hands[:5], hands[5:]])\n",
    "        if hand_ranks[player_1[0]] > hand_ranks[player_2[0]]:\n",
    "            return True\n",
    "        elif hand_ranks[player_1[0]] == hand_ranks[player_2[0]]:\n",
    "            if player_1[1] > player_2[1]:\n",
    "                return True\n",
    "            elif player_1[1] == player_2[1]:\n",
    "                return player_1[2] > player_2[2]\n",
    "        return False\n",
    "\n",
    "    hand_ranks = {hand: rank for rank, hand in enumerate(['High Card', 'One Pair', 'Two Pairs', 'Three of a Kind',\n",
    "                                                          'Straight', 'Flush', 'Full House', 'Four of a Kind',\n",
    "                                                          'Straight Flush', 'Royal Flush'])}\n",
    "    card_ranks = {card: rank for rank, card in enumerate(['2', '3', '4', '5', '6', '7', '8', '9', 'T', 'J', 'Q', 'K',\n",
    "                                                          'A'])}\n",
    "    return sum(map(is_winner, [i.split(' ') for i in open(path).read().split('\\n')]))"
   ],
   "metadata": {
    "collapsed": false,
    "pycharm": {
     "name": "#%%\n"
    }
   }
  },
  {
   "cell_type": "code",
   "execution_count": 3,
   "outputs": [
    {
     "data": {
      "text/plain": "376"
     },
     "execution_count": 3,
     "metadata": {},
     "output_type": "execute_result"
    }
   ],
   "source": [
    "compute('p054_poker.txt')"
   ],
   "metadata": {
    "collapsed": false,
    "pycharm": {
     "name": "#%%\n"
    }
   }
  },
  {
   "cell_type": "code",
   "execution_count": 4,
   "outputs": [
    {
     "name": "stdout",
     "output_type": "stream",
     "text": [
      "8.73479 ms ± 0 ns per loop (mean ± std. dev. of 1 run, 100 loops each)\n"
     ]
    }
   ],
   "source": [
    "%timeit -n 100 -r 1 -p 6 compute('p054_poker.txt')"
   ],
   "metadata": {
    "collapsed": false,
    "pycharm": {
     "name": "#%%\n"
    }
   }
  }
 ],
 "metadata": {
  "kernelspec": {
   "display_name": "Python 3",
   "language": "python",
   "name": "python3"
  },
  "language_info": {
   "codemirror_mode": {
    "name": "ipython",
    "version": 2
   },
   "file_extension": ".py",
   "mimetype": "text/x-python",
   "name": "python",
   "nbconvert_exporter": "python",
   "pygments_lexer": "ipython2",
   "version": "2.7.6"
  }
 },
 "nbformat": 4,
 "nbformat_minor": 0
}