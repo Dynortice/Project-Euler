{
 "cells": [
  {
   "cell_type": "markdown",
   "source": [
    "# Problem 751\n",
    "## Concatenation Coincidence\n",
    "\n",
    "A non-decreasing sequence of integers $a_n$ can be generated from any positive real value $\\theta$ by the following procedure:\n",
    "\n",
    "$$b_1 = \\theta$$\n",
    "\n",
    "$$b_n = \\lfloor b_{n-1} \\rfloor \\times (b_{n-1} - \\lfloor b_{n-1} \\rfloor + 1) \\forall n \\geq 2$$\n",
    "\n",
    "$$a_n = \\lfloor b_n \\rfloor$$\n",
    "\n",
    "Where $\\lfloor . \\rfloor$ is the floor function.\n",
    "\n",
    "For example, $\\theta = 2.956938891377988...$ generates the Fibonacci sequence: $2, 3, 5, 8, 13, 21, 34, 55, 89, ...$\n",
    "\n",
    "The *concatenation* of a sequence of positive integers $a_n$ is a real value denoted $\\tau$ constructed by concatenating the elements of the sequence after the decimal point, starting at $a_1$: $a_1.a_2 a_3 a_4...$\n",
    "\n",
    "For example, the Fibonacci sequence constructed from $\\theta = 2.956938891377988...$ yields the concatenation $\\tau = 2.3581321345589...$ Clearly, $\\tau \\ne \\theta$ for this value of $\\theta$.\n",
    "\n",
    "Find the only value of $\\theta$ for which the generated sequence starts at $a_1 = 2$ and the concatenation of the generated sequence equals the original value: $\\tau = \\theta$. Give your answer rounded to $24$ places after the decimal point."
   ],
   "metadata": {
    "collapsed": false,
    "pycharm": {
     "name": "#%% md\n"
    }
   }
  },
  {
   "cell_type": "code",
   "execution_count": 1,
   "metadata": {
    "collapsed": true
   },
   "outputs": [],
   "source": [
    "from math import modf"
   ]
  },
  {
   "cell_type": "code",
   "execution_count": 2,
   "outputs": [],
   "source": [
    "def compute(t: int, n: int) -> str:\n",
    "    def next_b(b: float) -> float:\n",
    "        b, a = modf(b)\n",
    "        return a * (1 + b)\n",
    "\n",
    "    result = f'{t}.'\n",
    "    i = 1\n",
    "    while len(result) < n + 2:\n",
    "        x = float(result)\n",
    "        for _ in range(i):\n",
    "            x = next_b(x)\n",
    "        result += str(int(x))\n",
    "        i += 1\n",
    "    return result"
   ],
   "metadata": {
    "collapsed": false,
    "pycharm": {
     "name": "#%%\n"
    }
   }
  },
  {
   "cell_type": "code",
   "execution_count": 3,
   "outputs": [
    {
     "data": {
      "text/plain": "'2.223561019313554106173177'"
     },
     "execution_count": 3,
     "metadata": {},
     "output_type": "execute_result"
    }
   ],
   "source": [
    "compute(2, 24)"
   ],
   "metadata": {
    "collapsed": false,
    "pycharm": {
     "name": "#%%\n"
    }
   }
  },
  {
   "cell_type": "code",
   "execution_count": 4,
   "outputs": [
    {
     "name": "stdout",
     "output_type": "stream",
     "text": [
      "27.41 µs ± 0 ns per loop (mean ± std. dev. of 1 run, 100 loops each)\n"
     ]
    }
   ],
   "source": [
    "%timeit -n 100 -r 1 -p 6 compute(2, 24)"
   ],
   "metadata": {
    "collapsed": false,
    "pycharm": {
     "name": "#%%\n"
    }
   }
  }
 ],
 "metadata": {
  "kernelspec": {
   "display_name": "Python 3",
   "language": "python",
   "name": "python3"
  },
  "language_info": {
   "codemirror_mode": {
    "name": "ipython",
    "version": 2
   },
   "file_extension": ".py",
   "mimetype": "text/x-python",
   "name": "python",
   "nbconvert_exporter": "python",
   "pygments_lexer": "ipython2",
   "version": "2.7.6"
  }
 },
 "nbformat": 4,
 "nbformat_minor": 0
}