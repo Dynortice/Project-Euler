{
 "cells": [
  {
   "cell_type": "markdown",
   "metadata": {
    "collapsed": true,
    "pycharm": {
     "name": "#%% md\n"
    }
   },
   "source": [
    "# Problem 493\n",
    "## Under The Rainbow\n",
    "\n",
    "$70$ coloured balls are placed in an urn, $10$ for each of the seven rainbow colours.\n",
    "\n",
    "What is the expected number of distinct colours in $20$ randomly picked balls?\n",
    "\n",
    "Give your answer with nine digits after the decimal point (a.bcdefghij).\n",
    "\n",
    "## Solution\n",
    "\n",
    "Define total number of balls $n$ and number of balls of each color $m$. We can count probability that certain color will not among the $k$ picked balls:\n",
    "\n",
    "$$\\frac{\\binom{n - m}{k}}{\\binom{n}{k}} = \\frac{\\frac{(n - m)!}{k! (n - m - k)!}}{\\frac{n!}{k! (n - k)!}} = \\frac{k! (n - k)! (n - m)!}{k! n! (n - m - k)!} = \\frac{(n - k)! (n - m)!}{n! (n - m - k)!}$$\n",
    "\n",
    "As $n!$ so large, this expression could be rewritten as:\n",
    "\n",
    "$$\\frac{(n - k)! (n - m)!}{n! (n - m - k)!} = \\frac{\\displaystyle\\prod_{i = n - m - k + 1}^{n - k} i}{\\displaystyle\\prod_{i = n - m + 1}^{n} i} = \\displaystyle\\prod_{i = n - m + 1}^{n} \\frac{i - k}{i}$$\n",
    "\n",
    "Now we need opposite of this probability as certain color should be among picked balls and as we have 7 colors it should be multiplied by $7$:\n",
    "\n",
    "$$7 \\left(1 - \\displaystyle\\prod_{i = n - m + 1}^{n} \\frac{i - k}{i}\\right)$$"
   ]
  },
  {
   "cell_type": "code",
   "execution_count": 1,
   "outputs": [],
   "source": [
    "from math import prod"
   ],
   "metadata": {
    "collapsed": false,
    "pycharm": {
     "name": "#%%\n"
    }
   }
  },
  {
   "cell_type": "code",
   "execution_count": 2,
   "outputs": [],
   "source": [
    "def compute(n: int, k: int) -> float:\n",
    "    return round(7 * (1 - prod((i - k) / i for i in range(n // 7 * 6 + 1, n + 1))), 9)"
   ],
   "metadata": {
    "collapsed": false,
    "pycharm": {
     "name": "#%%\n"
    }
   }
  },
  {
   "cell_type": "code",
   "execution_count": 3,
   "outputs": [
    {
     "data": {
      "text/plain": "6.818741802"
     },
     "execution_count": 3,
     "metadata": {},
     "output_type": "execute_result"
    }
   ],
   "source": [
    "compute(70, 20)"
   ],
   "metadata": {
    "collapsed": false,
    "pycharm": {
     "name": "#%%\n"
    }
   }
  },
  {
   "cell_type": "code",
   "execution_count": 4,
   "outputs": [
    {
     "name": "stdout",
     "output_type": "stream",
     "text": [
      "8.63 µs ± 0 ns per loop (mean ± std. dev. of 1 run, 100 loops each)\n"
     ]
    }
   ],
   "source": [
    "%timeit -n 100 -r 1 -p 6 compute(70, 20)"
   ],
   "metadata": {
    "collapsed": false,
    "pycharm": {
     "name": "#%%\n"
    }
   }
  }
 ],
 "metadata": {
  "kernelspec": {
   "display_name": "Python 3",
   "language": "python",
   "name": "python3"
  },
  "language_info": {
   "codemirror_mode": {
    "name": "ipython",
    "version": 2
   },
   "file_extension": ".py",
   "mimetype": "text/x-python",
   "name": "python",
   "nbconvert_exporter": "python",
   "pygments_lexer": "ipython2",
   "version": "2.7.6"
  }
 },
 "nbformat": 4,
 "nbformat_minor": 0
}