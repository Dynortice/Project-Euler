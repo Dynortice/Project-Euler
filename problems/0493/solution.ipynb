{
 "cells": [
  {
   "cell_type": "markdown",
   "metadata": {
    "collapsed": true,
    "pycharm": {
     "name": "#%% md\n"
    }
   },
   "source": [
    "# Problem 493\n",
    "## Under The Rainbow\n",
    "\n",
    "$70$ coloured balls are placed in an urn, $10$ for each of the seven rainbow colours.\n",
    "\n",
    "What is the expected number of distinct colours in $20$ randomly picked balls?\n",
    "\n",
    "Give your answer with nine digits after the decimal point (a.bcdefghij).\n",
    "\n",
    "## Solution\n",
    "\n",
    "Define total number of balls $n$ and number of balls of each color $m$. We can count probability that certain color will not among the $k$ picked balls:\n",
    "\n",
    "$$\\frac{\\binom{n - m}{k}}{\\binom{n}{k}} = \\frac{\\frac{(n - m)!}{k! (n - m - k)!}}{\\frac{n!}{k! (n - k)!}} = \\frac{k! (n - k)! (n - m)!}{k! n! (n - m - k)!} = \\frac{(n - k)! (n - m)!}{n! (n - m - k)!}$$\n",
    "\n",
    "As $n!$ so large"
   ]
  }
 ],
 "metadata": {
  "kernelspec": {
   "display_name": "Python 3",
   "language": "python",
   "name": "python3"
  },
  "language_info": {
   "codemirror_mode": {
    "name": "ipython",
    "version": 2
   },
   "file_extension": ".py",
   "mimetype": "text/x-python",
   "name": "python",
   "nbconvert_exporter": "python",
   "pygments_lexer": "ipython2",
   "version": "2.7.6"
  }
 },
 "nbformat": 4,
 "nbformat_minor": 0
}