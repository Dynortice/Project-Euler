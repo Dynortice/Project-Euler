{
 "cells": [
  {
   "cell_type": "markdown",
   "metadata": {
    "collapsed": true,
    "pycharm": {
     "name": "#%% md\n"
    }
   },
   "source": [
    "# Problem 1"
   ]
  },
  {
   "cell_type": "markdown",
   "source": [
    "## Multiples of 3 and 5\n",
    "If we list all the natural numbers below $10$ that are multiples of $3$ or $5$, we get $3, 5, 6$ and $9$. The sum of these multiples is $23$. Find the sum of all the multiples of $3$ or $5$ below $1000$."
   ],
   "metadata": {
    "collapsed": false
   }
  },
  {
   "cell_type": "markdown",
   "source": [
    "## Solution\n",
    "Have a look at all numbers below $10$ that are multiplies of $3$: $3, 6, 9$. It's just arithmetic progression. So we could use the formula of the sum of first $n$ terms of sequence for this problem:\n",
    "\n",
    "$$\\sum_{i=1}^{n}a_i=S_n=\\frac{n(a_{1}+a_{n})}{2}=\\frac{n(2a_1+d(n-1))}{2}$$\n",
    "\n",
    "Where $a_1, a_n$ the first and the last terms in the sequence. And $d$ the common difference.\n",
    "\n",
    "Considering sequence with common difference of $3$ below $10$. For getting number of terms we just need Euclidean division of $10-1$ by $3$. Quotient would be needed value.\n",
    "\n",
    "Thus the first term of sequence $a_1=3$, common difference also $3$: $d=3$ and $n=\\lfloor\\frac{10-1}{3}\\rfloor=3$. Thus $S_n=18$.\n",
    "\n",
    "So we've two arithmetic sequence but they produce common numbers. Have a look at sequences $3, 6, 9, 12, 15, 18, 21, 24, 27, 30$ and $5, 10, 15, 20, 25, 30$. As you might have noticed the $15$ and $30$ are in both sequences. And this is also start of third arithmetic sequence with common difference $3\\times5=15$. So for correct answer we need to subtract sum of third arithmetic sequence."
   ],
   "metadata": {
    "collapsed": false
   }
  },
  {
   "cell_type": "code",
   "execution_count": 1,
   "outputs": [],
   "source": [
    "from euler.calculus import sum_arithmetic_series"
   ],
   "metadata": {
    "collapsed": false,
    "pycharm": {
     "name": "#%%\n"
    }
   }
  },
  {
   "cell_type": "code",
   "execution_count": 2,
   "outputs": [],
   "source": [
    "def compute(a: int, b: int, n: int) -> int:\n",
    "    n -= 1\n",
    "    ab = a * b\n",
    "    return int(sum_arithmetic_series(a, a, n // a) + sum_arithmetic_series(b, b, n // b)\n",
    "               - sum_arithmetic_series(ab, ab, n // ab))"
   ],
   "metadata": {
    "collapsed": false,
    "pycharm": {
     "name": "#%%\n"
    }
   }
  },
  {
   "cell_type": "code",
   "execution_count": 3,
   "outputs": [
    {
     "data": {
      "text/plain": "23"
     },
     "execution_count": 3,
     "metadata": {},
     "output_type": "execute_result"
    }
   ],
   "source": [
    "compute(3, 5, 10)"
   ],
   "metadata": {
    "collapsed": false,
    "pycharm": {
     "name": "#%%\n"
    }
   }
  },
  {
   "cell_type": "code",
   "execution_count": 4,
   "outputs": [
    {
     "data": {
      "text/plain": "233168"
     },
     "execution_count": 4,
     "metadata": {},
     "output_type": "execute_result"
    }
   ],
   "source": [
    "compute(3, 5, 1_000)"
   ],
   "metadata": {
    "collapsed": false,
    "pycharm": {
     "name": "#%%\n"
    }
   }
  },
  {
   "cell_type": "code",
   "execution_count": 5,
   "outputs": [
    {
     "name": "stdout",
     "output_type": "stream",
     "text": [
      "823 ns ± 0 ns per loop (mean ± std. dev. of 1 run, 100 loops each)\n"
     ]
    }
   ],
   "source": [
    "%timeit -n 100 -r 1 -p 6 compute(3, 5, 1_000)"
   ],
   "metadata": {
    "collapsed": false,
    "pycharm": {
     "name": "#%%\n"
    }
   }
  }
 ],
 "metadata": {
  "kernelspec": {
   "display_name": "Python 3",
   "language": "python",
   "name": "python3"
  },
  "language_info": {
   "codemirror_mode": {
    "name": "ipython",
    "version": 2
   },
   "file_extension": ".py",
   "mimetype": "text/x-python",
   "name": "python",
   "nbconvert_exporter": "python",
   "pygments_lexer": "ipython2",
   "version": "2.7.6"
  }
 },
 "nbformat": 4,
 "nbformat_minor": 0
}