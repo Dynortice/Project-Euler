{
 "cells": [
  {
   "cell_type": "markdown",
   "metadata": {
    "collapsed": true,
    "pycharm": {
     "name": "#%% md\n"
    }
   },
   "source": [
    "# Problem 40\n",
    "## Champernowne's constant\n",
    "\n",
    "An irrational decimal fraction is created by concatenating the positive integers:\n",
    "\n",
    "$$0.123456789101112131415161718192021...$$\n",
    "\n",
    "It can be seen that the $12^{th}$ digit of the fractional part is $1$.\n",
    "\n",
    "If $d_n$ represents the $n^{th}$ digit of the fractional part, find the value of the following expression.\n",
    "\n",
    "$$d_1 \\times d_{10} \\times d_{100} \\times d_{1000} \\times d_{10000} \\times d_{100000} \\times d_{1000000}$$\n",
    "\n",
    "## Solution"
   ]
  },
  {
   "cell_type": "code",
   "execution_count": 1,
   "outputs": [],
   "source": [
    "from math import prod"
   ],
   "metadata": {
    "collapsed": false,
    "pycharm": {
     "name": "#%%\n"
    }
   }
  },
  {
   "cell_type": "code",
   "execution_count": 10,
   "outputs": [],
   "source": [
    "def compute(d: int) -> int:\n",
    "    def digits_number(k: int) -> int:\n",
    "        return (10 ** k * (9 * k - 1) + 1) // 9\n",
    "\n",
    "    def get_digit(n: int) -> int:\n",
    "        k = 0\n",
    "        while digits_number(k + 1) < n:\n",
    "            k += 1\n",
    "        k += 1\n",
    "        rem = n - digits_number(k - 1)\n",
    "        num = 10 ** (k - 1) + rem // k - 1\n",
    "        if rem % k == 0:\n",
    "            return int(str(num)[-1])\n",
    "        else:\n",
    "            return int(str(num + 1)[rem % k - 1])\n",
    "    return prod(get_digit(10 ** i) for i in range(d))"
   ],
   "metadata": {
    "collapsed": false,
    "pycharm": {
     "name": "#%%\n"
    }
   }
  },
  {
   "cell_type": "code",
   "execution_count": 11,
   "outputs": [
    {
     "data": {
      "text/plain": "210"
     },
     "execution_count": 11,
     "metadata": {},
     "output_type": "execute_result"
    }
   ],
   "source": [
    "compute(7)"
   ],
   "metadata": {
    "collapsed": false,
    "pycharm": {
     "name": "#%%\n"
    }
   }
  },
  {
   "cell_type": "code",
   "execution_count": 12,
   "outputs": [
    {
     "name": "stdout",
     "output_type": "stream",
     "text": [
      "32.016 µs ± 0 ns per loop (mean ± std. dev. of 1 run, 100 loops each)\n"
     ]
    }
   ],
   "source": [
    "%timeit -n 100 -r 1 -p 6 compute(7)"
   ],
   "metadata": {
    "collapsed": false,
    "pycharm": {
     "name": "#%%\n"
    }
   }
  }
 ],
 "metadata": {
  "kernelspec": {
   "display_name": "Python 3",
   "language": "python",
   "name": "python3"
  },
  "language_info": {
   "codemirror_mode": {
    "name": "ipython",
    "version": 2
   },
   "file_extension": ".py",
   "mimetype": "text/x-python",
   "name": "python",
   "nbconvert_exporter": "python",
   "pygments_lexer": "ipython2",
   "version": "2.7.6"
  }
 },
 "nbformat": 4,
 "nbformat_minor": 0
}