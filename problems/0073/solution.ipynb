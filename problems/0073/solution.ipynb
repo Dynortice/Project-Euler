{
 "cells": [
  {
   "cell_type": "markdown",
   "metadata": {
    "collapsed": true,
    "pycharm": {
     "name": "#%% md\n"
    }
   },
   "source": [
    "# Problem 73\n",
    "## Counting fractions in a range\n",
    "\n",
    "Consider the fraction, $\\frac{n}{d}$, where $n$ and $d$ are positive integers. If $n < d$ and $HCF(n, d) = 1$, it is called a reduced proper fraction.\n",
    "\n",
    "If we list the set of reduced proper fractions for $d \\le 8$ in ascending order of size, we get:\n",
    "\n",
    "$$\\frac{1}{8}, \\frac{1}{7}, \\frac{1}{6}, \\frac{1}{5}, \\frac{1}{4}, \\frac{2}{7}, \\frac{1}{3}, \\frac{3}{8}, \\frac{2}{5}, \\frac{3}{7}, \\frac{1}{2}, \\frac{4}{7}, \\frac{3}{5}, \\frac{5}{8}, \\frac{2}{3}, \\frac{5}{7}, \\frac{3}{4}, \\frac{4}{5}, \\frac{5}{6}, \\frac{6}{7}, \\frac{7}{8}$$\n",
    "\n",
    "It can be seen that there are $3$ fractions between $\\frac{1}{3}$ and $\\frac{1}{2}$.\n",
    "\n",
    "How many fractions lie between $\\frac{1}{3}$ and $\\frac{1}{2}$ in the sorted set of reduced proper fractions for $d \\le 12000$?\n",
    "\n",
    "## Solution"
   ]
  },
  {
   "cell_type": "code",
   "execution_count": 1,
   "outputs": [],
   "source": [
    "def compute(n: int):\n",
    "    sieve = [0] * (n + 1)\n",
    "    for i in range(2, n + 1):\n",
    "        sieve[i] += i - 1 - i // 2 - i // 3\n",
    "        j = 2 * i\n",
    "        while j <= n:\n",
    "            sieve[j] -= sieve[i]\n",
    "            j += i\n",
    "    return sum(sieve)"
   ],
   "metadata": {
    "collapsed": false,
    "pycharm": {
     "name": "#%%\n"
    }
   }
  },
  {
   "cell_type": "code",
   "execution_count": 2,
   "outputs": [
    {
     "data": {
      "text/plain": "3"
     },
     "execution_count": 2,
     "metadata": {},
     "output_type": "execute_result"
    }
   ],
   "source": [
    "compute(8)"
   ],
   "metadata": {
    "collapsed": false,
    "pycharm": {
     "name": "#%%\n"
    }
   }
  },
  {
   "cell_type": "code",
   "execution_count": 3,
   "outputs": [
    {
     "data": {
      "text/plain": "7295372"
     },
     "execution_count": 3,
     "metadata": {},
     "output_type": "execute_result"
    }
   ],
   "source": [
    "compute(12000)"
   ],
   "metadata": {
    "collapsed": false,
    "pycharm": {
     "name": "#%%\n"
    }
   }
  },
  {
   "cell_type": "code",
   "execution_count": 4,
   "outputs": [
    {
     "name": "stdout",
     "output_type": "stream",
     "text": [
      "13.5862 ms ± 0 ns per loop (mean ± std. dev. of 1 run, 100 loops each)\n"
     ]
    }
   ],
   "source": [
    "%timeit -n 100 -r 1 -p 6 compute(12000)"
   ],
   "metadata": {
    "collapsed": false,
    "pycharm": {
     "name": "#%%\n"
    }
   }
  }
 ],
 "metadata": {
  "kernelspec": {
   "display_name": "Python 3",
   "language": "python",
   "name": "python3"
  },
  "language_info": {
   "codemirror_mode": {
    "name": "ipython",
    "version": 2
   },
   "file_extension": ".py",
   "mimetype": "text/x-python",
   "name": "python",
   "nbconvert_exporter": "python",
   "pygments_lexer": "ipython2",
   "version": "2.7.6"
  }
 },
 "nbformat": 4,
 "nbformat_minor": 0
}