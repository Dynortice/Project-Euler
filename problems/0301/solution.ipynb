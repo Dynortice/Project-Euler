{
 "cells": [
  {
   "cell_type": "markdown",
   "metadata": {
    "collapsed": true,
    "pycharm": {
     "name": "#%% md\n"
    }
   },
   "source": [
    "# Problem 301\n",
    "## Nim\n",
    "\n",
    "*Nim* is a game played with heaps of stones, where two players take it turn to remove any number of stones from any heap until no stone remain.\n",
    "\n",
    "We'll consider the three-heap normal-play version of Nim, which works as follows:\n",
    "- At the start of the game there are three heaps of stones.\n",
    "- On each player's turn, the player may remove any positive number of stones from any single heap.\n",
    "- The first player unable to move (because no stones remain) loses.\n",
    "\n",
    "If $(n_1, n_2, n_3)$ indicates a Nim position consisting of heaps of size $n_1$, $n_2$, and $n_3$, then there is a simple function, which you may look up or attempt to deduce for yourself, $X(n_1, n_2, n_3)$ that returns:\n",
    "- zero if, with perfect strategy, the player about to move will eventually lose; or\n",
    "- non-zero if, with perfect strategy, the player about to move will eventually win.\n",
    "\n",
    "For example $X(1, 2, 3) = 0$ because, no matter what the current player does, the opponent can respond with a move that leaves two heaps of equal size, at which point every move by the current player can be mirrored by the opponent until no stones remain; so the current player loses. To ilustrate:\n",
    "- current player moves to $(1, 2, 1)$\n",
    "- opponent moves to $(1, 0, 1)$\n",
    "- current player moves to $(0, 0, 1)$\n",
    "- opponent moves to $(0, 0, 0)$, and so wins.\n",
    "\n",
    "For how many positive integers $n \\le 2^{30}$ does $X(n, 2n, 3n) = 0$?\n",
    "\n",
    "OEIS Sequence [A003714](https://oeis.org/A003714)\n",
    "\n",
    "# Solution"
   ]
  },
  {
   "cell_type": "code",
   "execution_count": 1,
   "outputs": [],
   "source": [
    "from euler.calculus import get_fibonacci"
   ],
   "metadata": {
    "collapsed": false,
    "pycharm": {
     "name": "#%%\n"
    }
   }
  },
  {
   "cell_type": "code",
   "execution_count": 2,
   "outputs": [],
   "source": [
    "def compute(n: int) -> int:\n",
    "    return get_fibonacci(n + 2)"
   ],
   "metadata": {
    "collapsed": false,
    "pycharm": {
     "name": "#%%\n"
    }
   }
  },
  {
   "cell_type": "code",
   "execution_count": 3,
   "outputs": [
    {
     "data": {
      "text/plain": "2178309"
     },
     "execution_count": 3,
     "metadata": {},
     "output_type": "execute_result"
    }
   ],
   "source": [
    "compute(30)"
   ],
   "metadata": {
    "collapsed": false,
    "pycharm": {
     "name": "#%%\n"
    }
   }
  },
  {
   "cell_type": "code",
   "execution_count": 4,
   "outputs": [
    {
     "name": "stdout",
     "output_type": "stream",
     "text": [
      "582 ns ± 0 ns per loop (mean ± std. dev. of 1 run, 100 loops each)\n"
     ]
    }
   ],
   "source": [
    "%timeit -n 100 -r 1 -p 6 compute(30)"
   ],
   "metadata": {
    "collapsed": false,
    "pycharm": {
     "name": "#%%\n"
    }
   }
  }
 ],
 "metadata": {
  "kernelspec": {
   "display_name": "Python 3",
   "language": "python",
   "name": "python3"
  },
  "language_info": {
   "codemirror_mode": {
    "name": "ipython",
    "version": 2
   },
   "file_extension": ".py",
   "mimetype": "text/x-python",
   "name": "python",
   "nbconvert_exporter": "python",
   "pygments_lexer": "ipython2",
   "version": "2.7.6"
  }
 },
 "nbformat": 4,
 "nbformat_minor": 0
}