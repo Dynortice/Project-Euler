{
 "cells": [
  {
   "cell_type": "markdown",
   "metadata": {
    "collapsed": true,
    "pycharm": {
     "name": "#%% md\n"
    }
   },
   "source": [
    "# Problem 387\n",
    "## Harshad Numbers\n",
    "\n",
    "A **Harshad or Niven number** is a number that is divisible by the sum of its digits. $201$ is a Harshad number because it is divisible by $3$ (the sum of its digits). When we truncate the last digit from $201$, we get $20$, which is a Harshad number. When we truncate the last digit from $20$, we get $2$, which is also a Harshad number. Let's call a Harshad number that, while recursively truncating the last digit, always results in a Harshad number a right truncatable Harshad number.\n",
    "\n",
    "Also: $\\frac{201}{3} = 67$ which is prime. Let's call a Harshad number that, when divided by the sum of its digits, results in a prime a strong Harshad number.\n",
    "\n",
    "Now take the number $2011$ which is prime. When we truncate the last digit from it we get $201$, a strong Harshad number that is also right truncatable. Let's call such primes strong, right truncatable Harshad primes.\n",
    "\n",
    "You are given that the sum of the strong, right truncatable Harshad primes less than $10000$ is $90619$.\n",
    "\n",
    "Find the sum of the strong, right truncatable Harshad primes less than $10 ^ {14}$.\n",
    "\n",
    "## Solution"
   ]
  },
  {
   "cell_type": "code",
   "execution_count": 1,
   "outputs": [],
   "source": [
    "from euler.numbers import digits_sum\n",
    "from euler.primes import is_prime"
   ],
   "metadata": {
    "collapsed": false,
    "pycharm": {
     "name": "#%%\n"
    }
   }
  },
  {
   "cell_type": "code",
   "execution_count": 2,
   "outputs": [],
   "source": [
    "def compute(n):\n",
    "    harshad_numbers = list(range(1, 10))\n",
    "    result = 0\n",
    "    for _ in range(n - 2):\n",
    "        new_harshad_numbers = list()\n",
    "        for i in range(10):\n",
    "            for harshad in harshad_numbers:\n",
    "                if (harshad * 10 + i) % (digits_sum(harshad) + i) == 0:\n",
    "                    new_harshad = harshad * 10 + i\n",
    "                    new_harshad_numbers.append(new_harshad)\n",
    "                    if is_prime(new_harshad // digits_sum(new_harshad)):\n",
    "                        for j in [1, 3, 7, 9]:\n",
    "                            if is_prime(new_harshad * 10 + j):\n",
    "                                result += new_harshad * 10 + j\n",
    "        harshad_numbers = new_harshad_numbers\n",
    "    return result"
   ],
   "metadata": {
    "collapsed": false,
    "pycharm": {
     "name": "#%%\n"
    }
   }
  },
  {
   "cell_type": "code",
   "execution_count": 3,
   "outputs": [
    {
     "data": {
      "text/plain": "90619"
     },
     "execution_count": 3,
     "metadata": {},
     "output_type": "execute_result"
    }
   ],
   "source": [
    "compute(4)"
   ],
   "metadata": {
    "collapsed": false,
    "pycharm": {
     "name": "#%%\n"
    }
   }
  },
  {
   "cell_type": "code",
   "execution_count": 4,
   "outputs": [
    {
     "data": {
      "text/plain": "696067597313468"
     },
     "execution_count": 4,
     "metadata": {},
     "output_type": "execute_result"
    }
   ],
   "source": [
    "compute(14)"
   ],
   "metadata": {
    "collapsed": false,
    "pycharm": {
     "name": "#%%\n"
    }
   }
  },
  {
   "cell_type": "code",
   "execution_count": 5,
   "outputs": [
    {
     "name": "stdout",
     "output_type": "stream",
     "text": [
      "9.06478 s ± 0 ns per loop (mean ± std. dev. of 1 run, 100 loops each)\n"
     ]
    }
   ],
   "source": [
    "%timeit -n 100 -r 1 -p 6 compute(14)"
   ],
   "metadata": {
    "collapsed": false,
    "pycharm": {
     "name": "#%%\n"
    }
   }
  }
 ],
 "metadata": {
  "kernelspec": {
   "display_name": "Python 3",
   "language": "python",
   "name": "python3"
  },
  "language_info": {
   "codemirror_mode": {
    "name": "ipython",
    "version": 2
   },
   "file_extension": ".py",
   "mimetype": "text/x-python",
   "name": "python",
   "nbconvert_exporter": "python",
   "pygments_lexer": "ipython2",
   "version": "2.7.6"
  }
 },
 "nbformat": 4,
 "nbformat_minor": 0
}