{
 "cells": [
  {
   "cell_type": "markdown",
   "metadata": {
    "collapsed": true,
    "pycharm": {
     "name": "#%% md\n"
    }
   },
   "source": [
    "# Problem 102\n",
    "## Triangle containment\n",
    "\n",
    "Three distinct points are plotted at random on a Cartesian plane, for which $-1000 \\le x, y \\le 1000$, such that a triangle formed.\n",
    "\n",
    "Consider the following two triangles:\n",
    "\n",
    "$$A(-340, 495), B(-153, -910), C(835, -947)$$\n",
    "\n",
    "$$X(-175, 41), Y(-421, -714), Z(574, -645)$$\n",
    "\n",
    "It can be verified that triangle $ABC$ contains the origin, whereas triangle $XYZ$ does not.\n",
    "\n",
    "Using [triangles.txt](https://projecteuler.net/project/resources/p102_triangles.txt) (right click and 'Save Link/Target As...'), a $27$K text file containing the co-ordinates of one thousand \"random\" triangles, find the number of triangles for which the interior contains the origin.\n",
    "\n",
    "<small>NOTE: The first two examples in the file represent the triangles in the example given above.</small>\n",
    "\n",
    "## Solution\n",
    "\n",
    "$X \\in ABC$ if and only if $A(ABC) = A(ABX) + A(AXC) + A(XBC)$\n",
    "\n",
    "$$A(ABC) = \\left|\\frac{(A_x - C_x)(B_y - A_y) - (A_x - B_x)(C_y - A_y)}{2}\\right|$$"
   ]
  },
  {
   "cell_type": "code",
   "execution_count": 1,
   "outputs": [],
   "source": [
    "from euler.geometry import triangle_area"
   ],
   "metadata": {
    "collapsed": false,
    "pycharm": {
     "name": "#%%\n"
    }
   }
  },
  {
   "cell_type": "code",
   "execution_count": 2,
   "outputs": [],
   "source": [
    "def compute(path: str) -> int:\n",
    "    triangles = [tuple(map(int, line.split(','))) for line in open(path).read().split('\\n')]\n",
    "    x = (0, 0)\n",
    "    result = 0\n",
    "    for triangle in triangles:\n",
    "        a, b, c = triangle[:2], triangle[2:4], triangle[4:]\n",
    "        if triangle_area(a, b, x) + triangle_area(a, x, c) + triangle_area(x, b, c) == triangle_area(a, b, c):\n",
    "            result += 1\n",
    "    return result"
   ],
   "metadata": {
    "collapsed": false,
    "pycharm": {
     "name": "#%%\n"
    }
   }
  },
  {
   "cell_type": "code",
   "execution_count": 3,
   "outputs": [
    {
     "data": {
      "text/plain": "228"
     },
     "execution_count": 3,
     "metadata": {},
     "output_type": "execute_result"
    }
   ],
   "source": [
    "compute('p102_triangles.txt')"
   ],
   "metadata": {
    "collapsed": false,
    "pycharm": {
     "name": "#%%\n"
    }
   }
  },
  {
   "cell_type": "code",
   "execution_count": 4,
   "outputs": [
    {
     "name": "stdout",
     "output_type": "stream",
     "text": [
      "3.13232 ms ± 0 ns per loop (mean ± std. dev. of 1 run, 100 loops each)\n"
     ]
    }
   ],
   "source": [
    "%timeit -n 100 -r 1 -p 6 compute('p102_triangles.txt')"
   ],
   "metadata": {
    "collapsed": false,
    "pycharm": {
     "name": "#%%\n"
    }
   }
  }
 ],
 "metadata": {
  "kernelspec": {
   "display_name": "Python 3",
   "language": "python",
   "name": "python3"
  },
  "language_info": {
   "codemirror_mode": {
    "name": "ipython",
    "version": 2
   },
   "file_extension": ".py",
   "mimetype": "text/x-python",
   "name": "python",
   "nbconvert_exporter": "python",
   "pygments_lexer": "ipython2",
   "version": "2.7.6"
  }
 },
 "nbformat": 4,
 "nbformat_minor": 0
}