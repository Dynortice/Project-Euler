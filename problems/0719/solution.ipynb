{
 "cells": [
  {
   "cell_type": "markdown",
   "metadata": {
    "collapsed": true,
    "pycharm": {
     "name": "#%% md\n"
    }
   },
   "source": [
    "# Problem 719\n",
    "## Number Splitting\n",
    "\n",
    "We define an $S$-number to be a natural number, $n$, that is a perfect square and its square root can be obtained by splitting the decimal representation of $n$ into $2$ or more numbers then adding the numbers.\n",
    "\n",
    "For example, $81$ is an $S$-number because $\\sqrt{81} = 8 + 1$\n",
    "\n",
    "$6724$ is an $S$-number: $\\sqrt{6724} = 6 + 72 + 4$\n",
    "\n",
    "$8281$ is an $S$-number: $\\sqrt{8281} = 8 + 2 + 81 = 82 + 8 + 1$\n",
    "\n",
    "$9801$ is an $S$-number: $\\sqrt{9801} = 98 + 0 + 1$\n",
    "\n",
    "Further we define $T(N)$ to be the sum of all $S$ numbers $n \\le N$. You are given $T(10 ^ 4) = 41333$.\n",
    "\n",
    "Find $T(10 ^ {12})$.\n",
    "\n",
    "## Solution"
   ]
  },
  {
   "cell_type": "code",
   "execution_count": 1,
   "outputs": [],
   "source": [
    "def compute(n: int) -> int:\n",
    "    def is_s_number(a: int, b: int) -> bool:\n",
    "        if a > b:\n",
    "            return False\n",
    "        elif a == b:\n",
    "            return True\n",
    "        modulo = 10\n",
    "        while modulo < b:\n",
    "            quotient, remainder = b // modulo, b % modulo\n",
    "            if remainder < a and is_s_number(a - remainder, quotient):\n",
    "                return True\n",
    "            modulo *= 10\n",
    "        else:\n",
    "            return False\n",
    "\n",
    "    result = 0\n",
    "    for i in range(2, n + 1):\n",
    "        if is_s_number(i, i * i):\n",
    "            result += i * i\n",
    "    return result"
   ],
   "metadata": {
    "collapsed": false,
    "pycharm": {
     "name": "#%%\n"
    }
   }
  },
  {
   "cell_type": "code",
   "execution_count": 2,
   "outputs": [
    {
     "data": {
      "text/plain": "41333"
     },
     "execution_count": 2,
     "metadata": {},
     "output_type": "execute_result"
    }
   ],
   "source": [
    "compute(10 ** 2)"
   ],
   "metadata": {
    "collapsed": false,
    "pycharm": {
     "name": "#%%\n"
    }
   }
  },
  {
   "cell_type": "code",
   "execution_count": 3,
   "outputs": [
    {
     "data": {
      "text/plain": "128088830547982"
     },
     "execution_count": 3,
     "metadata": {},
     "output_type": "execute_result"
    }
   ],
   "source": [
    "compute(10 ** 6)"
   ],
   "metadata": {
    "collapsed": false,
    "pycharm": {
     "name": "#%%\n"
    }
   }
  },
  {
   "cell_type": "code",
   "execution_count": 4,
   "outputs": [
    {
     "name": "stdout",
     "output_type": "stream",
     "text": [
      "1min 5s ± 0 ns per loop (mean ± std. dev. of 1 run, 10 loops each)\n"
     ]
    }
   ],
   "source": [
    "%timeit -n 10 -r 1 -p 6 compute(10 ** 6)"
   ],
   "metadata": {
    "collapsed": false,
    "pycharm": {
     "name": "#%%\n"
    }
   }
  }
 ],
 "metadata": {
  "kernelspec": {
   "display_name": "Python 3",
   "language": "python",
   "name": "python3"
  },
  "language_info": {
   "codemirror_mode": {
    "name": "ipython",
    "version": 2
   },
   "file_extension": ".py",
   "mimetype": "text/x-python",
   "name": "python",
   "nbconvert_exporter": "python",
   "pygments_lexer": "ipython2",
   "version": "2.7.6"
  }
 },
 "nbformat": 4,
 "nbformat_minor": 0
}