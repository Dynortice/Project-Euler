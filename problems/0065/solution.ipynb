{
 "cells": [
  {
   "cell_type": "markdown",
   "metadata": {
    "collapsed": true,
    "pycharm": {
     "name": "#%% md\n"
    }
   },
   "source": [
    "# Problem 65\n",
    "## Convergents of $e$\n",
    "\n",
    "The square root of $2$ can be written as an infinite continued fraction.\n",
    "\n",
    "$$\\sqrt{2} = 1 + \\frac{1}{2 + \\frac{1}{2 + \\frac{1}{2 + \\frac{1}{2 + ...}}}}$$\n",
    "\n",
    "The infinite continued fraction can be written, $\\sqrt{2} = [1; (2)]$, $(2)$ indicates that $2$ repeats *ad infinitum*. In a similar way, $\\sqrt{23} = [4; (1, 3, 1, 8)]$.\n",
    "\n",
    "It turns out that the sequence of partial values of continued fractions for square roots provide the best rational approximations. Let us consider the convergents for $\\sqrt{2}$.\n",
    "\n",
    "$$1 + \\frac{1}{2} = \\frac{3}{2}$$\n",
    "\n",
    "$$1 + \\frac{1}{2 + \\frac{1}{2}} = \\frac{7}{5}$$\n",
    "\n",
    "$$1 + \\frac{1}{2 + \\frac{1}{2 + \\frac{1}{2}}} = \\frac{17}{12}$$\n",
    "\n",
    "$$1 + \\frac{1}{2 + \\frac{1}{2 + \\frac{1}{2 + \\frac{1}{2}}}} = \\frac{41}{29}$$\n",
    "\n",
    "Hence the sequence of the first ten convergents for $\\sqrt{2}$ are:\n",
    "\n",
    "$$1, \\frac{3}{2}, \\frac{7}{5}, \\frac{17}{12}, \\frac{41}{29}, \\frac{99}{70}, \\frac{239}{169}, \\frac{577}{408}, \\frac{1393}{985}, \\frac{3363}{2378}, ...$$\n",
    "\n",
    "What is most surprising is that the important mathematical constant, $e = [2, 1, 2, 1, 1, 4, 1, 1, 6, 1, ..., 1, 2k, 1, ...]$.\n",
    "\n",
    "The first ten terms in the sequence of convergents for $e$ are:\n",
    "\n",
    "$$2, 3, \\frac{8}{3}, \\frac{11}{4}, \\frac{19}{7}, \\frac{87}{32}, \\frac{106}{39}, \\frac{193}{71}, \\frac{1264}{465}, \\frac{1457}{536}, ...$$\n",
    "\n",
    "The sum of digits in the numerator of the $10$<sup>th</sup> convergent is $1 + 4 + 5 + 7 = 17$.\n",
    "\n",
    "Find the sum of digits in the numerator of the $100$<sup>th</sup> convergent of the continued fraction for $e$.\n",
    "\n",
    "OEIS Sequence: [A113873](https://oeis.org/A113873)\n",
    "\n",
    "## Solution\n",
    "\n",
    "$$f(3n) = f(3n - 1) + f(3n - 2)$$\n",
    "\n",
    "$$f(3n + 1) = 2n \\times f(3n) + f(3n - 1)$$\n",
    "\n",
    "$$f(3n + 2) = f(3n + 1) + f(3n)$$"
   ]
  },
  {
   "cell_type": "code",
   "execution_count": 1,
   "outputs": [],
   "source": [
    "from euler.big_int import BigInt\n",
    "from euler.numbers import digits_sum"
   ],
   "metadata": {
    "collapsed": false,
    "pycharm": {
     "name": "#%%\n"
    }
   }
  },
  {
   "cell_type": "code",
   "execution_count": 2,
   "outputs": [],
   "source": [
    "def compute(n: int) -> int:\n",
    "    current, previous = BigInt(1), BigInt(1)\n",
    "    for i in range(2, n + 2):\n",
    "        current, previous = current * (2 * i // 3 if i % 3 == 1 else 1) + previous, current\n",
    "    return digits_sum(current)"
   ],
   "metadata": {
    "collapsed": false,
    "pycharm": {
     "name": "#%%\n"
    }
   }
  },
  {
   "cell_type": "code",
   "execution_count": 3,
   "outputs": [
    {
     "data": {
      "text/plain": "17"
     },
     "execution_count": 3,
     "metadata": {},
     "output_type": "execute_result"
    }
   ],
   "source": [
    "compute(10)"
   ],
   "metadata": {
    "collapsed": false,
    "pycharm": {
     "name": "#%%\n"
    }
   }
  },
  {
   "cell_type": "code",
   "execution_count": 4,
   "outputs": [
    {
     "data": {
      "text/plain": "272"
     },
     "execution_count": 4,
     "metadata": {},
     "output_type": "execute_result"
    }
   ],
   "source": [
    "compute(100)"
   ],
   "metadata": {
    "collapsed": false,
    "pycharm": {
     "name": "#%%\n"
    }
   }
  },
  {
   "cell_type": "code",
   "execution_count": 5,
   "outputs": [
    {
     "name": "stdout",
     "output_type": "stream",
     "text": [
      "14.0334 ms ± 0 ns per loop (mean ± std. dev. of 1 run, 100 loops each)\n"
     ]
    }
   ],
   "source": [
    "%timeit -n 100 -r 1 -p 6 compute(100)"
   ],
   "metadata": {
    "collapsed": false,
    "pycharm": {
     "name": "#%%\n"
    }
   }
  }
 ],
 "metadata": {
  "kernelspec": {
   "display_name": "Python 3",
   "language": "python",
   "name": "python3"
  },
  "language_info": {
   "codemirror_mode": {
    "name": "ipython",
    "version": 2
   },
   "file_extension": ".py",
   "mimetype": "text/x-python",
   "name": "python",
   "nbconvert_exporter": "python",
   "pygments_lexer": "ipython2",
   "version": "2.7.6"
  }
 },
 "nbformat": 4,
 "nbformat_minor": 0
}