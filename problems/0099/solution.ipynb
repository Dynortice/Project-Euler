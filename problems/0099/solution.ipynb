{
 "cells": [
  {
   "cell_type": "markdown",
   "metadata": {
    "collapsed": true,
    "pycharm": {
     "name": "#%% md\n"
    }
   },
   "source": [
    "# Problem 99\n",
    "## Largest exponential\n",
    "\n",
    "Comparing two numbers written in index form like $2 ^ {11}$ and $3 ^ 7$ is not difficult, as any calculator would confirm that $2 ^ {11} = 2048 < 3 ^ 7 = 2187$.\n",
    "\n",
    "However, confirming that $632382 ^ {518061} > 519432 ^ {525806}$ would be much more difficult, as both numbers contain over three million digits.\n",
    "\n",
    "Using [base_exp.txt](https://projecteuler.net/project/resources/p099_base_exp.txt) (right click and 'Save Link/Target As...'), a 22K text file containing one thousand lines with a base/exponent pair on each line, determine which line number has the greatest numerical value.\n",
    "\n",
    "**NOTE**: The first two lines in the file represent the numbers in the example given above.\n",
    "\n",
    "## Solution\n",
    "\n",
    "It can be confirmed that $a ^ b > c ^ d$ when $bn \\log_n a > dn \\log_n c$. For example:\n",
    "\n",
    "$$632282 ^ {518061} < 519432 ^ {525806}$$\n",
    "\n",
    "$$\\iff 10 \\times 518061 \\log 632282 < 10 \\times 525806 \\log 519432$$\n",
    "\n",
    "$$\\iff 518061 \\log 632282 < 525806 \\log 519432$$\n",
    "\n",
    "$$\\iff 518061 \\times 5.800911 < 525806 \\times 5.715529$$\n",
    "\n",
    "$$\\iff 3005226 < 3005259$$"
   ]
  },
  {
   "cell_type": "code",
   "execution_count": 1,
   "outputs": [],
   "source": [
    "from math import log10"
   ],
   "metadata": {
    "collapsed": false,
    "pycharm": {
     "name": "#%%\n"
    }
   }
  },
  {
   "cell_type": "code",
   "execution_count": 2,
   "outputs": [],
   "source": [
    "def compute(path: str) -> int:\n",
    "    base_exp = [tuple(map(int, i.split(','))) for i in open(path).read().split('\\n')]\n",
    "    max_exponent = 0\n",
    "    result = 0\n",
    "    for i in range(len(base_exp)):\n",
    "        base, exponent = base_exp[i]\n",
    "        exponent = log10(base) * exponent\n",
    "        if exponent > max_exponent:\n",
    "            max_exponent = exponent\n",
    "            result = i\n",
    "    return result + 1"
   ],
   "metadata": {
    "collapsed": false,
    "pycharm": {
     "name": "#%%\n"
    }
   }
  },
  {
   "cell_type": "code",
   "execution_count": 3,
   "outputs": [
    {
     "data": {
      "text/plain": "709"
     },
     "execution_count": 3,
     "metadata": {},
     "output_type": "execute_result"
    }
   ],
   "source": [
    "compute('p099_base_exp.txt')"
   ],
   "metadata": {
    "collapsed": false,
    "pycharm": {
     "name": "#%%\n"
    }
   }
  },
  {
   "cell_type": "code",
   "execution_count": 4,
   "outputs": [
    {
     "name": "stdout",
     "output_type": "stream",
     "text": [
      "1.16432 ms ± 0 ns per loop (mean ± std. dev. of 1 run, 10 loops each)\n"
     ]
    }
   ],
   "source": [
    "%timeit -n 10 -r 1 -p 6 compute('p099_base_exp.txt')"
   ],
   "metadata": {
    "collapsed": false,
    "pycharm": {
     "name": "#%%\n"
    }
   }
  }
 ],
 "metadata": {
  "kernelspec": {
   "display_name": "Python 3",
   "language": "python",
   "name": "python3"
  },
  "language_info": {
   "codemirror_mode": {
    "name": "ipython",
    "version": 2
   },
   "file_extension": ".py",
   "mimetype": "text/x-python",
   "name": "python",
   "nbconvert_exporter": "python",
   "pygments_lexer": "ipython2",
   "version": "2.7.6"
  }
 },
 "nbformat": 4,
 "nbformat_minor": 0
}