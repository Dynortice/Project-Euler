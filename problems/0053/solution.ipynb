{
 "cells": [
  {
   "cell_type": "markdown",
   "metadata": {
    "collapsed": true,
    "pycharm": {
     "name": "#%% md\n"
    }
   },
   "source": [
    "# Problem 53\n",
    "## Combinatorics selections\n",
    "\n",
    "There are exactly ten ways of selecting three from five, $12345$:\n",
    "\n",
    "$123, 124, 125, 134, 135, 145, 234, 235, 245$, and $345$\n",
    "\n",
    "In combinatorics, we use the notation, $\\binom{5}{3} = 10$\n",
    "\n",
    "In general, $\\binom{n}{r} = \\frac{n!}{r! (n - r)!}$, where $r \\le n$, $n! = n \\times (n - 1) \\times ... \\times 3 \\times 2 \\times 1$, and $0! = 1$.\n",
    "\n",
    "It is not until $n = 23$, that a value exceeds one-million: $\\binom{23}{10} = 1144066$.\n",
    "\n",
    "How many, not necessarily distinct, values of $\\binom{n}{r}$ for $1 \\le n \\le 100$, are greater than one-million?\n",
    "\n",
    "## Solution\n",
    "\n",
    "The first observation is $\\binom{23}{10} \\equiv \\binom{23}{13}$. If $k = n - r$, then:\n",
    "\n",
    "$$\\binom{n}{r} = \\binom{n}{k} \\iff \\frac{n!}{r!(n - r)!} = \\frac{n!}{k!(n - k)!}$$\n",
    "\n",
    "$$\\iff \\frac{n!}{r!(n - r)!} = \\frac{n!}{(n - r)!(n - (n - r))!} = \\frac{n!}{(n - r)!r!}$$\n",
    "\n",
    "The second observation:\n",
    "\n",
    "$$\\binom{n}{\\lfloor \\frac{n}{2} \\rfloor - 1} < \\binom{n}{\\frac{n}{2}} > \\binom{n}{\\lceil \\frac{n}{2} \\rceil + 1}$$\n",
    "\n",
    "So we need to get only first $r$ which with $n$ would be more than one-million.\n",
    "\n",
    "For getting binomial coefficient we'd use the [Stirling's approximation](https://en.wikipedia.org/wiki/Stirling%27s_approximation):\n",
    "\n",
    "$$n! \\sim \\sqrt{2 \\pi n} \\left(\\frac{n}{e}\\right)^n$$\n",
    "\n",
    "$$\\frac{n!}{k! (n-k)!} \\approx \\frac{\\sqrt{2 \\pi n} \\left(\\frac{n}{e}\\right)^n}{\\sqrt{2 \\pi k} \\left(\\frac{k}{e}\\right)^k \\sqrt{2 \\pi \\left(n - k \\right)} \\left(\\frac{n - k}{e}\\right)^{n - k}} = $$\n",
    "\n",
    "$$= \\frac{n^{n + \\frac{1}{2}}}{\\sqrt{2 \\pi} k^{k + \\frac{1}{2}} \\left(n - k \\right)^{n - k + \\frac{1}{2}}} = \\frac{n^k \\left(\\frac{1}{k} - \\frac{1}{n} \\right)^{k + \\frac{1}{2}}}{\\sqrt{2 \\pi} \\left(1 - \\frac{k}{n} \\right)^{n + 1}}$$"
   ]
  },
  {
   "cell_type": "code",
   "execution_count": 1,
   "outputs": [],
   "source": [
    "from math import pi, sqrt"
   ],
   "metadata": {
    "collapsed": false,
    "pycharm": {
     "name": "#%%\n"
    }
   }
  },
  {
   "cell_type": "code",
   "execution_count": 2,
   "outputs": [],
   "source": [
    "def compute(n_max: int, limit: int) -> int:\n",
    "    def comb_approx(n: int, k: int) -> float:\n",
    "        return n ** (n + 0.5) / sqrt(2 * pi) / k ** (k + 0.5) / (n - k) ** (n - k + 0.5)\n",
    "\n",
    "    result = 0\n",
    "    for i in range(1, n_max + 1):\n",
    "        for j in range(1, i // 2):\n",
    "            if comb_approx(i, j) > limit:\n",
    "                result += i - 2 * j + 1\n",
    "                break\n",
    "    return result"
   ],
   "metadata": {
    "collapsed": false,
    "pycharm": {
     "name": "#%%\n"
    }
   }
  },
  {
   "cell_type": "code",
   "execution_count": 3,
   "outputs": [
    {
     "data": {
      "text/plain": "4075"
     },
     "execution_count": 3,
     "metadata": {},
     "output_type": "execute_result"
    }
   ],
   "source": [
    "compute(100, 1000000)"
   ],
   "metadata": {
    "collapsed": false,
    "pycharm": {
     "name": "#%%\n"
    }
   }
  },
  {
   "cell_type": "code",
   "execution_count": 4,
   "outputs": [
    {
     "name": "stdout",
     "output_type": "stream",
     "text": [
      "899.229 µs ± 0 ns per loop (mean ± std. dev. of 1 run, 100 loops each)\n"
     ]
    }
   ],
   "source": [
    "%timeit -n 100 -r 1 -p 6 compute(100, 1000000)"
   ],
   "metadata": {
    "collapsed": false,
    "pycharm": {
     "name": "#%%\n"
    }
   }
  }
 ],
 "metadata": {
  "kernelspec": {
   "display_name": "Python 3",
   "language": "python",
   "name": "python3"
  },
  "language_info": {
   "codemirror_mode": {
    "name": "ipython",
    "version": 2
   },
   "file_extension": ".py",
   "mimetype": "text/x-python",
   "name": "python",
   "nbconvert_exporter": "python",
   "pygments_lexer": "ipython2",
   "version": "2.7.6"
  }
 },
 "nbformat": 4,
 "nbformat_minor": 0
}