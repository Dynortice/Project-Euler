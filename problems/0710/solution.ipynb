{
 "cells": [
  {
   "cell_type": "markdown",
   "metadata": {
    "collapsed": true,
    "pycharm": {
     "name": "#%% md\n"
    }
   },
   "source": [
    "# Problem 700\n",
    "## One Million Members\n",
    "\n",
    "**On Sunday 5 April 2020 the Project Euler membership first exceeded one million members. We would like to present this problem to celebrate that milestone. Thank you to everyone for being a part of Project Euler.**\n",
    "\n",
    "The number $6$ can be written as a palindromic sum in exactly eight different ways:\n",
    "\n",
    "$$(1, 1, 1, 1, 1, 1), (1, 1, 2, 1, 1), (1, 2, 2, 1), (1, 4, 1), (2, 1, 1, 2), (2, 2, 2), (3, 3), 6$$\n",
    "\n",
    "We shall define a twopal to be a palindromic tuple having at least one element with a value of $2$. It should also be noted that elements are not restricted to single digits. For example, $(3, 2, 13, 6, 13, 2, 3)$ is a valid twopal.\n",
    "\n",
    "If we let $t(n)$ be the number of twopals whose elements sum to $n$, then it can be seen that $t(6) = 4$:\n",
    "\n",
    "$$(1, 1, 2, 1, 1), (1, 2, 2, 1), (2, 1, 1, 2), (2, 2, 2)$$\n",
    "\n",
    "Similarly, $t(20) = 824$.\n",
    "\n",
    "In searching for the answer to the ultimate question of life, the universe, and everything, it can be verified that $t(42) = 1999923$, which happens to be the first value of $t(n)$ that exceeds one million.\n",
    "\n",
    "However, your challenge to the \"ultimatest\" question of life, the universe, and everything is to find the least value of $n > 42$ such that $t(n)$ is divisible by one million.\n",
    "\n",
    "OEIS Sequence: [A005251](https://oeis.org/A005251)\n",
    "\n",
    "## Solution\n",
    "\n",
    "$$t(2n) = 2 ^ n - f(n + 2)$$\n",
    "\n",
    "$$f(n) = 2f(n - 1) - f(n - 2) + (n - 3)$$"
   ]
  },
  {
   "cell_type": "code",
   "execution_count": 1,
   "outputs": [],
   "source": [
    "def compute(modulo: int) -> int:\n",
    "    n = (4, 2, 1)\n",
    "    power = i = 4\n",
    "    result = 1\n",
    "    while result:\n",
    "        n = (2 * n[0] - n[1] + n[2]) % modulo, n[0], n[1]\n",
    "        power = power * 2 % modulo\n",
    "        result = power - n[1]\n",
    "        i += 2\n",
    "    return i"
   ],
   "metadata": {
    "collapsed": false,
    "pycharm": {
     "name": "#%%\n"
    }
   }
  },
  {
   "cell_type": "code",
   "execution_count": 2,
   "outputs": [
    {
     "data": {
      "text/plain": "1275000"
     },
     "execution_count": 2,
     "metadata": {},
     "output_type": "execute_result"
    }
   ],
   "source": [
    "compute(1_000_000)"
   ],
   "metadata": {
    "collapsed": false,
    "pycharm": {
     "name": "#%%\n"
    }
   }
  },
  {
   "cell_type": "code",
   "execution_count": 3,
   "outputs": [
    {
     "name": "stdout",
     "output_type": "stream",
     "text": [
      "186.13 ms ± 0 ns per loop (mean ± std. dev. of 1 run, 10 loops each)\n"
     ]
    }
   ],
   "source": [
    "%timeit -n 10 -r 1 -p 6 compute(1_000_000)"
   ],
   "metadata": {
    "collapsed": false,
    "pycharm": {
     "name": "#%%\n"
    }
   }
  }
 ],
 "metadata": {
  "kernelspec": {
   "display_name": "Python 3",
   "language": "python",
   "name": "python3"
  },
  "language_info": {
   "codemirror_mode": {
    "name": "ipython",
    "version": 2
   },
   "file_extension": ".py",
   "mimetype": "text/x-python",
   "name": "python",
   "nbconvert_exporter": "python",
   "pygments_lexer": "ipython2",
   "version": "2.7.6"
  }
 },
 "nbformat": 4,
 "nbformat_minor": 0
}