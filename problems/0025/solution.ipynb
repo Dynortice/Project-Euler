{
 "cells": [
  {
   "cell_type": "markdown",
   "source": [
    "# Problem 25\n",
    "## $1000$-digit Fibonacci number\n",
    "\n",
    "The Fibonacci sequence is defined by the recurrence relation:\n",
    "\n",
    "$$F_n = F_{n−1} + F_{n−2} \\text{ where } F_1 = 1 \\text{ and } F_2 = 1.$$\n",
    "\n",
    "Hence the first $12$ terms will be:\n",
    "\n",
    "$$F_1 = 1$$\n",
    "\n",
    "$$F_2 = 1$$\n",
    "\n",
    "$$F_3 = 2$$\n",
    "\n",
    "$$F_4 = 3$$\n",
    "\n",
    "$$F_5 = 5$$\n",
    "\n",
    "$$F_6 = 8$$\n",
    "\n",
    "$$F_7 = 13$$\n",
    "\n",
    "$$F_8 = 21$$\n",
    "\n",
    "$$F_9 = 34$$\n",
    "\n",
    "$$F_{10} = 55$$\n",
    "\n",
    "$$F_{11} = 89$$\n",
    "\n",
    "$$F_{12} = 144$$\n",
    "\n",
    "The $12$th term, $F_{12}$, is the first term to contain three digits.\n",
    "\n",
    "What is the index of the first term in the Fibonacci sequence to contain $1000$ digits?\n",
    "\n",
    "OEIS Sequence: [A000045](https://oeis.org/A000045)\n",
    "\n",
    "## Solution"
   ],
   "metadata": {
    "collapsed": false,
    "pycharm": {
     "name": "#%% md\n"
    }
   }
  },
  {
   "cell_type": "code",
   "execution_count": 1,
   "outputs": [],
   "source": [
    "from math import ceil, log, sqrt"
   ],
   "metadata": {
    "collapsed": false,
    "pycharm": {
     "name": "#%%\n"
    }
   }
  },
  {
   "cell_type": "code",
   "execution_count": 2,
   "outputs": [],
   "source": [
    "def compute(n: int) -> int:\n",
    "    return int(ceil((log(10) * (n - 1) + log(5) / 2) / log((1 + sqrt(5)) / 2)))"
   ],
   "metadata": {
    "collapsed": false,
    "pycharm": {
     "name": "#%%\n"
    }
   }
  },
  {
   "cell_type": "code",
   "execution_count": 3,
   "outputs": [
    {
     "data": {
      "text/plain": "12"
     },
     "execution_count": 3,
     "metadata": {},
     "output_type": "execute_result"
    }
   ],
   "source": [
    "compute(3)"
   ],
   "metadata": {
    "collapsed": false,
    "pycharm": {
     "name": "#%%\n"
    }
   }
  },
  {
   "cell_type": "code",
   "execution_count": 4,
   "outputs": [
    {
     "data": {
      "text/plain": "4782"
     },
     "execution_count": 4,
     "metadata": {},
     "output_type": "execute_result"
    }
   ],
   "source": [
    "compute(1000)"
   ],
   "metadata": {
    "collapsed": false,
    "pycharm": {
     "name": "#%%\n"
    }
   }
  },
  {
   "cell_type": "code",
   "execution_count": 5,
   "outputs": [
    {
     "name": "stdout",
     "output_type": "stream",
     "text": [
      "1.275 µs ± 0 ns per loop (mean ± std. dev. of 1 run, 100 loops each)\n"
     ]
    }
   ],
   "source": [
    "%timeit -n 100 -r 1 -p 6 compute(1000)"
   ],
   "metadata": {
    "collapsed": false,
    "pycharm": {
     "name": "#%%\n"
    }
   }
  }
 ],
 "metadata": {
  "kernelspec": {
   "display_name": "Python 3",
   "language": "python",
   "name": "python3"
  },
  "language_info": {
   "codemirror_mode": {
    "name": "ipython",
    "version": 2
   },
   "file_extension": ".py",
   "mimetype": "text/x-python",
   "name": "python",
   "nbconvert_exporter": "python",
   "pygments_lexer": "ipython2",
   "version": "2.7.6"
  }
 },
 "nbformat": 4,
 "nbformat_minor": 0
}