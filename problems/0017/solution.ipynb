{
 "cells": [
  {
   "cell_type": "markdown",
   "source": [
    "# Problem 17\n",
    "## Number letter counts\n",
    "\n",
    "If the numbers $1$ to $5$ are written out in words: one, two, three, four, five, then there are $3 + 3 + 5 + 4 + 4 = 19$ letters used in total.\n",
    "\n",
    "If all the numbers from $1$ to $1000$ (one thousand) inclusive were written out in words, how many letters would be used?\n",
    "\n",
    "**NOTE**: Do not count spaces or hyphens. For example, $342$ (three hundred and forty-two) contains $23$ letters and $115$ (one hundred and fifteen) contains $20$ letters. The use of \"and\" when writing out numbers is in compliance with British usage.\n",
    "## Solution"
   ],
   "metadata": {
    "collapsed": false,
    "pycharm": {
     "name": "#%% md\n"
    }
   }
  },
  {
   "cell_type": "code",
   "execution_count": 1,
   "outputs": [],
   "source": [
    "def compute(number):\n",
    "    numbers_below_10 = [\n",
    "        len('one'),\n",
    "        len('two'),\n",
    "        len('three'),\n",
    "        len('four'),\n",
    "        len('five'),\n",
    "        len('six'),\n",
    "        len('seven'),\n",
    "        len('eight'),\n",
    "        len('nine')\n",
    "    ]\n",
    "    numbers_below_20 = [\n",
    "        len('ten'),\n",
    "        len('eleven'),\n",
    "        len('twelve'),\n",
    "        len('thirteen'),\n",
    "        len('fourteen'),\n",
    "        len('fifteen'),\n",
    "        len('sixteen'),\n",
    "        len('seventeen'),\n",
    "        len('eighteen'),\n",
    "        len('nineteen')\n",
    "    ]\n",
    "    tenth = [\n",
    "        len('twenty'),\n",
    "        len('thirty'),\n",
    "        len('forty'),\n",
    "        len('fifty'),\n",
    "        len('sixty'),\n",
    "        len('seventy'),\n",
    "        len('eighty'),\n",
    "        len('ninety')\n",
    "    ]\n",
    "    sum_numbers_below_10 = sum(numbers_below_10)\n",
    "    sum_numbers_below_20 = sum(numbers_below_20)\n",
    "    sum_tenth = sum(tenth)\n",
    "    sum_hundreds = len('hundred')\n",
    "    sum_and = len('and')\n",
    "    sum_thousands = len('thousand')\n",
    "    thousands = number // 1000\n",
    "    hundreds = number % 1000 // 100\n",
    "    tenths = number % 100 // 10\n",
    "    digits = number % 10\n",
    "    sum_numbers_below_10 = 190 * thousands * sum_numbers_below_10 + (1000 * sum(\n",
    "        numbers_below_10[0:thousands - 1]) + (100 * hundreds + 10 * tenths + digits + 1) * numbers_below_10[thousands - 1] if thousands > 0 else 0) + (100 * sum(\n",
    "        numbers_below_10[0:hundreds - 1]) + (10 * tenths + digits + 1) * numbers_below_10[hundreds - 1] if hundreds > 0 else 0) + 9 * hundreds * sum_numbers_below_10 + (max(\n",
    "        (tenths - 1) * sum_numbers_below_10, 0) + sum(\n",
    "        numbers_below_10[0:digits]) if tenths != 1 else sum_numbers_below_10)\n",
    "    sum_numbers_below_20 = 10 * thousands * sum_numbers_below_20 + hundreds * sum_numbers_below_20 + (sum_numbers_below_20 if tenths > 1 else 0) + (sum(\n",
    "        numbers_below_20[0:digits]) if tenths == 1 else 0)\n",
    "    sum_tenth = 100 * thousands * sum_tenth + 10 * hundreds * sum_tenth + (10 * sum(\n",
    "        tenth[0:tenths - 2]) if tenths > 2 else 0) + ((digits + 1) * tenth[tenths - 2] if tenths == 2 or tenths == 9 else 0)\n",
    "    sum_hundreds = 900 * thousands * sum_hundreds + max(\n",
    "        100 * (hundreds - 1) * sum_hundreds, 0) + ((10 * tenths + digits + 1) * sum_hundreds if hundreds > 0 else 0)\n",
    "    sum_and = 891 * thousands * sum_and + max(\n",
    "        99 * (hundreds - 1) * sum_and, 0) + ((10 * tenths + digits) * sum_and if hundreds > 0 else 0)\n",
    "    sum_thousands = max(1000 * (thousands - 1), 0) + ((100 * hundreds + 10 * tenths + digits + 1) * sum_thousands if thousands > 0 else 0)\n",
    "    return sum_numbers_below_10 + sum_numbers_below_20 + sum_tenth + sum_hundreds + sum_and + sum_thousands"
   ],
   "metadata": {
    "collapsed": false,
    "pycharm": {
     "name": "#%%\n"
    }
   }
  },
  {
   "cell_type": "code",
   "execution_count": 2,
   "outputs": [
    {
     "data": {
      "text/plain": "19"
     },
     "execution_count": 2,
     "metadata": {},
     "output_type": "execute_result"
    }
   ],
   "source": [
    "compute(5)"
   ],
   "metadata": {
    "collapsed": false,
    "pycharm": {
     "name": "#%%\n"
    }
   }
  },
  {
   "cell_type": "code",
   "execution_count": 3,
   "outputs": [
    {
     "data": {
      "text/plain": "21124"
     },
     "execution_count": 3,
     "metadata": {},
     "output_type": "execute_result"
    }
   ],
   "source": [
    "compute(1000)"
   ],
   "metadata": {
    "collapsed": false,
    "pycharm": {
     "name": "#%%\n"
    }
   }
  },
  {
   "cell_type": "code",
   "execution_count": 4,
   "outputs": [
    {
     "name": "stdout",
     "output_type": "stream",
     "text": [
      "8.34 µs ± 0 ns per loop (mean ± std. dev. of 1 run, 100 loops each)\n"
     ]
    }
   ],
   "source": [
    "%timeit -n 100 -r 1 -p 6 compute(1000)"
   ],
   "metadata": {
    "collapsed": false,
    "pycharm": {
     "name": "#%%\n"
    }
   }
  }
 ],
 "metadata": {
  "kernelspec": {
   "display_name": "Python 3",
   "language": "python",
   "name": "python3"
  },
  "language_info": {
   "codemirror_mode": {
    "name": "ipython",
    "version": 2
   },
   "file_extension": ".py",
   "mimetype": "text/x-python",
   "name": "python",
   "nbconvert_exporter": "python",
   "pygments_lexer": "ipython2",
   "version": "2.7.6"
  }
 },
 "nbformat": 4,
 "nbformat_minor": 0
}