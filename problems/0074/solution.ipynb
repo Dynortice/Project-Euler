{
 "cells": [
  {
   "cell_type": "markdown",
   "metadata": {
    "collapsed": true,
    "pycharm": {
     "name": "#%% md\n"
    }
   },
   "source": [
    "# Problem 74\n",
    "## Digit factorial chains\n",
    "\n",
    "The number $145$ is well known for the property that the sum of the factorial of its digits is equal to $145$:\n",
    "\n",
    "$$1! + 4! + 5! = 1 + 24 + 120 = 145$$\n",
    "\n",
    "Perhaps less well known is $169$, in that it produces the longest chains of numbers that link back to $169$; it turns out that there are only three such loops that exist:\n",
    "\n",
    "$$169 \\to 363601 \\to 1454 \\to 169$$\n",
    "\n",
    "$$871 \\to 45361 \\to 871$$\n",
    "\n",
    "$$872 \\to 45362 \\to 872$$\n",
    "\n",
    "It is not difficult to prove that EVERY starting number will eventually get stuck in a loop. For example,\n",
    "\n",
    "$$69 \\to 363600 \\to 1454 \\to 169 \\to 363601 (\\to 1454)$$\n",
    "\n",
    "$$78 \\to 45360 \\to 871 \\to 45361 (\\to 871)$$\n",
    "\n",
    "$$540 \\to 145 (\\to 145)$$\n",
    "\n",
    "Starting with $69$ produces a chain of five non-repeating terms, but the longest non-repeating chain with a starting number below one million is sixty terms.\n",
    "\n",
    "How many chains, with a starting number below one million, contain exactly sixty non-repeating terms?\n",
    "\n",
    "## Solution"
   ]
  },
  {
   "cell_type": "code",
   "execution_count": 1,
   "outputs": [],
   "source": [
    "from math import factorial, prod\n",
    "from itertools import combinations_with_replacement\n",
    "from collections import Counter"
   ],
   "metadata": {
    "collapsed": false,
    "pycharm": {
     "name": "#%%\n"
    }
   }
  },
  {
   "cell_type": "code",
   "execution_count": 2,
   "outputs": [],
   "source": [
    "def compute(n: int, m: int):\n",
    "    def get_next_term(k: int) -> int:\n",
    "        return sum(factorials[digit] for digit in map(int, str(k)))\n",
    "\n",
    "    def memoize_chain(chain: [int], k: int) -> None:\n",
    "        index_k = chain.index(k)\n",
    "        loop_len = chains[k] if k in chains else len(chain) - index_k\n",
    "        for i, j in enumerate(chain):\n",
    "            if i >= index_k:\n",
    "                chains[j] = loop_len\n",
    "            else:\n",
    "                chains[j] = index_k - i + loop_len\n",
    "\n",
    "    def get_chain_len(k: int) -> int:\n",
    "        if k in chains:\n",
    "            return chains[k]\n",
    "        term = k\n",
    "        chain = [term]\n",
    "        term = get_next_term(term)\n",
    "        while term not in chain:\n",
    "            chain.append(term)\n",
    "            if term in chains:\n",
    "                break\n",
    "            term = get_next_term(term)\n",
    "        memoize_chain(chain, term)\n",
    "        return chains[k]\n",
    "    factorials = [factorial(i) for i in range(10)]\n",
    "    chains = dict()\n",
    "    result = 0\n",
    "    for combination in combinations_with_replacement('9876543210', n):\n",
    "        combination = list(combination)\n",
    "        for _ in range(combination.count('0') + 1):\n",
    "            if get_chain_len(int(''.join(combination))) == m:\n",
    "                n_digits = len(combination)\n",
    "                n_zeros = combination.count('0')\n",
    "                counter = Counter(combination)\n",
    "                result += (n_digits - n_zeros) * factorials[n_digits - 1] // prod([int(i) for i in counter.values()])\n",
    "            if '0' in combination:\n",
    "                combination.remove('0')\n",
    "                if len(combination) == 0:\n",
    "                    break\n",
    "    return result"
   ],
   "metadata": {
    "collapsed": false,
    "pycharm": {
     "name": "#%%\n"
    }
   }
  },
  {
   "cell_type": "code",
   "execution_count": 3,
   "outputs": [
    {
     "data": {
      "text/plain": "402"
     },
     "execution_count": 3,
     "metadata": {},
     "output_type": "execute_result"
    }
   ],
   "source": [
    "compute(6, 60)"
   ],
   "metadata": {
    "collapsed": false,
    "pycharm": {
     "name": "#%%\n"
    }
   }
  },
  {
   "cell_type": "code",
   "execution_count": 4,
   "outputs": [
    {
     "name": "stdout",
     "output_type": "stream",
     "text": [
      "32.2714 ms ± 0 ns per loop (mean ± std. dev. of 1 run, 100 loops each)\n"
     ]
    }
   ],
   "source": [
    "%timeit -n 100 -r 1 -p 6 compute(6, 60)"
   ],
   "metadata": {
    "collapsed": false,
    "pycharm": {
     "name": "#%%\n"
    }
   }
  }
 ],
 "metadata": {
  "kernelspec": {
   "display_name": "Python 3",
   "language": "python",
   "name": "python3"
  },
  "language_info": {
   "codemirror_mode": {
    "name": "ipython",
    "version": 2
   },
   "file_extension": ".py",
   "mimetype": "text/x-python",
   "name": "python",
   "nbconvert_exporter": "python",
   "pygments_lexer": "ipython2",
   "version": "2.7.6"
  }
 },
 "nbformat": 4,
 "nbformat_minor": 0
}