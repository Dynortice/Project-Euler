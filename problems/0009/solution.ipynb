{
 "cells": [
  {
   "cell_type": "markdown",
   "metadata": {
    "collapsed": true,
    "pycharm": {
     "name": "#%% md\n"
    }
   },
   "source": [
    "# Problem 9"
   ]
  },
  {
   "cell_type": "markdown",
   "source": [
    "## Special Pythagorean triplet\n",
    "A Pythagorean triplet is a set of three natural numbers, $a < b < c$, for which,\n",
    "\n",
    "$$a^2 + b^2 = c^2$$\n",
    "\n",
    "For example, $3^2 + 4^2 = 9 + 16 = 25 = 5^2$.\n",
    "\n",
    "There exists exactly one Pythagorean triplet for which $a + b + c = 1000$.\n",
    "\n",
    "Find the product $abc$."
   ],
   "metadata": {
    "collapsed": false,
    "pycharm": {
     "name": "#%% md\n"
    }
   }
  },
  {
   "cell_type": "markdown",
   "source": [
    "## Solution\n",
    "Since $a<b<c$,\n",
    "\n",
    "$$\\begin{cases}a\\le\\frac{n}{3}\\\\a<b\\le\\frac{n}{2}\\\\b<c<n\\end{cases}$$\n",
    "\n",
    "We know that $a+b=n-c$ and $a^2+b^2=c^2$, so\n",
    "\n",
    "$$a^2+b^2=c^2$$\n",
    "\n",
    "$$\\iff a^2+2ab+b^2=c^2+2ab$$\n",
    "\n",
    "$$\\iff (a+b)^2=c^2+2ab$$\n",
    "\n",
    "$$\\iff 2ab=(n-c)^2-c^2$$\n",
    "\n",
    "Then we get\n",
    "\n",
    "$$a^2-2ab+b^2=c^2-(n-c)^2+c^2$$\n",
    "\n",
    "$$\\iff (a-b)^2=c^2-n^2+2nc-c^2+c^2$$\n",
    "\n",
    "$$\\iff (a-b)^2=c^2-n^2+2nc$$\n",
    "\n",
    "Therefore right part must be square."
   ],
   "metadata": {
    "collapsed": false
   }
  },
  {
   "cell_type": "code",
   "execution_count": 1,
   "outputs": [],
   "source": [
    "import math"
   ],
   "metadata": {
    "collapsed": false,
    "pycharm": {
     "name": "#%%\n"
    }
   }
  },
  {
   "cell_type": "code",
   "execution_count": 2,
   "outputs": [],
   "source": [
    "def compute(n: int) -> int:\n",
    "    for c in range(n // 3 + 1, n // 2 + 1):\n",
    "        s = c * c - n * n + 2 * n * c\n",
    "        if s > 0:\n",
    "            t = int(math.sqrt(s))\n",
    "            if t * t == s:\n",
    "                b = (n - c + t) // 2\n",
    "                a = n - c - b\n",
    "                return a * b * c"
   ],
   "metadata": {
    "collapsed": false,
    "pycharm": {
     "name": "#%%\n"
    }
   }
  },
  {
   "cell_type": "code",
   "execution_count": 3,
   "outputs": [
    {
     "data": {
      "text/plain": "60"
     },
     "execution_count": 3,
     "metadata": {},
     "output_type": "execute_result"
    }
   ],
   "source": [
    "compute(12)"
   ],
   "metadata": {
    "collapsed": false,
    "pycharm": {
     "name": "#%%\n"
    }
   }
  },
  {
   "cell_type": "code",
   "execution_count": 4,
   "outputs": [
    {
     "data": {
      "text/plain": "31875000"
     },
     "execution_count": 4,
     "metadata": {},
     "output_type": "execute_result"
    }
   ],
   "source": [
    "compute(1000)"
   ],
   "metadata": {
    "collapsed": false,
    "pycharm": {
     "name": "#%%\n"
    }
   }
  },
  {
   "cell_type": "code",
   "execution_count": 5,
   "outputs": [
    {
     "name": "stdout",
     "output_type": "stream",
     "text": [
      "30.06 µs ± 0 ns per loop (mean ± std. dev. of 1 run, 100 loops each)\n"
     ]
    }
   ],
   "source": [
    "%timeit -n 100 -r 1 -p 6 compute(1000)"
   ],
   "metadata": {
    "collapsed": false,
    "pycharm": {
     "name": "#%%\n"
    }
   }
  }
 ],
 "metadata": {
  "kernelspec": {
   "display_name": "Python 3",
   "language": "python",
   "name": "python3"
  },
  "language_info": {
   "codemirror_mode": {
    "name": "ipython",
    "version": 2
   },
   "file_extension": ".py",
   "mimetype": "text/x-python",
   "name": "python",
   "nbconvert_exporter": "python",
   "pygments_lexer": "ipython2",
   "version": "2.7.6"
  }
 },
 "nbformat": 4,
 "nbformat_minor": 0
}