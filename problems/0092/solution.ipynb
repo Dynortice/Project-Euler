{
 "cells": [
  {
   "cell_type": "markdown",
   "metadata": {
    "collapsed": true,
    "pycharm": {
     "name": "#%% md\n"
    }
   },
   "source": [
    "# Problem 92\n",
    "## Square digit chains\n",
    "\n",
    "A number chain is created by continuously adding the square of the digits in a number to form a new number until it has been seen before.\n",
    "\n",
    "For example,\n",
    "\n",
    "$$44 \\to 32 \\to 13 \\to 10 \\to 1 \\to 1$$\n",
    "\n",
    "$$85 \\to 89 \\to 145 \\to 42 \\to 20 \\to 4 \\to 16 \\to 37 \\to 58 \\to 89$$\n",
    "\n",
    "Therefore any chain that arrives at $1$ or $89$ will become stuck in an endless loop. What is most amazing is that EVERY starting number will eventually arrive at $1$ or $89$.\n",
    "\n",
    "How many starting numbers below ten million will arrive at $89$?\n",
    "\n",
    "## Solution"
   ]
  },
  {
   "cell_type": "code",
   "execution_count": 1,
   "outputs": [],
   "source": [
    "from math import prod, factorial\n",
    "from collections import Counter\n",
    "from itertools import combinations_with_replacement"
   ],
   "metadata": {
    "collapsed": false,
    "pycharm": {
     "name": "#%%\n"
    }
   }
  },
  {
   "cell_type": "code",
   "execution_count": 2,
   "outputs": [],
   "source": [
    "def compute(n: int) -> int:\n",
    "    def sum_squares_digits(x: str):\n",
    "        return sum(j ** 2 for j in map(int, x))\n",
    "\n",
    "    result = 0\n",
    "    for i in combinations_with_replacement(map(str, range(10)), n):\n",
    "        combination = ''.join(i)\n",
    "        while True:\n",
    "            combination = sum_squares_digits(combination)\n",
    "            if combination == 89:\n",
    "                result += factorial(n) // prod(map(factorial, Counter(i).values()))\n",
    "                break\n",
    "            elif combination < 2:\n",
    "                break\n",
    "            else:\n",
    "                combination = str(combination)\n",
    "    return result"
   ],
   "metadata": {
    "collapsed": false,
    "pycharm": {
     "name": "#%%\n"
    }
   }
  },
  {
   "cell_type": "code",
   "execution_count": 3,
   "outputs": [
    {
     "data": {
      "text/plain": "8581146"
     },
     "execution_count": 3,
     "metadata": {},
     "output_type": "execute_result"
    }
   ],
   "source": [
    "compute(7)"
   ],
   "metadata": {
    "collapsed": false,
    "pycharm": {
     "name": "#%%\n"
    }
   }
  },
  {
   "cell_type": "code",
   "execution_count": 4,
   "outputs": [
    {
     "name": "stdout",
     "output_type": "stream",
     "text": [
      "133.102 ms ± 0 ns per loop (mean ± std. dev. of 1 run, 100 loops each)\n"
     ]
    }
   ],
   "source": [
    "%timeit -n 100 -r 1 -p 6 compute(7)"
   ],
   "metadata": {
    "collapsed": false,
    "pycharm": {
     "name": "#%%\n"
    }
   }
  }
 ],
 "metadata": {
  "kernelspec": {
   "display_name": "Python 3",
   "language": "python",
   "name": "python3"
  },
  "language_info": {
   "codemirror_mode": {
    "name": "ipython",
    "version": 2
   },
   "file_extension": ".py",
   "mimetype": "text/x-python",
   "name": "python",
   "nbconvert_exporter": "python",
   "pygments_lexer": "ipython2",
   "version": "2.7.6"
  }
 },
 "nbformat": 4,
 "nbformat_minor": 0
}