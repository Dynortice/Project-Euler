{
 "cells": [
  {
   "cell_type": "markdown",
   "metadata": {
    "collapsed": true,
    "pycharm": {
     "name": "#%% md\n"
    }
   },
   "source": [
    "# Problem 692\n",
    "## Siegbert and Jo\n",
    "\n",
    "Siegbert and Jo take turns playing a game with a heap of pebbles:\n",
    "1. Siegbert is the first to take some pebbles. He can take as many pebbles as he wants. (Between $1$ and inclusive.)\n",
    "2. In each of the following turns the current player must take at least one pebble and at most twice the amount of pebbles taken by the previous player.\n",
    "3. The player who takes the last pebble wins.\n",
    "\n",
    "Although Siegbert can always win by taking all the pebbles on his first turn, to make the game more interesting he chooses to take the smallest number of pebbles that guarantees he will still win (assuming both Siegbert and Jo play optimally for the rest of the game).\n",
    "\n",
    "Let $H(N)$ be the minimal amount for a heap of $N$ pebbles.\n",
    "\n",
    "$H(1) = 1$, $H(4) = 1$, $H(8) = 8$, $H(17) = 17$ and $H(18) = 5$.\n",
    "\n",
    "Let $G(n)$ be $\\displaystyle \\sum_{k = 1}^n H(k)$.\n",
    "\n",
    "$G(13) = 43$.\n",
    "\n",
    "Find $G(23416728348467685)$.\n",
    "\n",
    "OEIS Sequence [A139764](https://oeis.org/A139764)\n",
    "\n",
    "## Solution\n",
    "\n",
    "$$G(F_n) = G(F_{n - 2}) + G(F_{n - 1}) + F_{n - 1}$$"
   ]
  },
  {
   "cell_type": "code",
   "execution_count": 1,
   "outputs": [],
   "source": [
    "from euler.calculus import fibonacci_index, fibonacci_numbers"
   ],
   "metadata": {
    "collapsed": false,
    "pycharm": {
     "name": "#%%\n"
    }
   }
  },
  {
   "cell_type": "code",
   "execution_count": 2,
   "outputs": [],
   "source": [
    "def compute(n: int):\n",
    "    index = fibonacci_index(n)\n",
    "    fibonacci = list(fibonacci_numbers(index))\n",
    "    last_sum, new_sum = 0, 0\n",
    "    result = sum(fibonacci[:5]) - 1\n",
    "    for i in range(5, index + 1):\n",
    "        last_sum, new_sum = new_sum, new_sum + last_sum + fibonacci[i - 3]\n",
    "        result += new_sum + fibonacci[i]\n",
    "    return result"
   ],
   "metadata": {
    "collapsed": false,
    "pycharm": {
     "name": "#%%\n"
    }
   }
  },
  {
   "cell_type": "code",
   "execution_count": 3,
   "outputs": [
    {
     "data": {
      "text/plain": "43"
     },
     "execution_count": 3,
     "metadata": {},
     "output_type": "execute_result"
    }
   ],
   "source": [
    "compute(13)"
   ],
   "metadata": {
    "collapsed": false,
    "pycharm": {
     "name": "#%%\n"
    }
   }
  },
  {
   "cell_type": "code",
   "execution_count": 4,
   "outputs": [
    {
     "data": {
      "text/plain": "842043391019219959"
     },
     "execution_count": 4,
     "metadata": {},
     "output_type": "execute_result"
    }
   ],
   "source": [
    "compute(23_416_728_348_467_685)"
   ],
   "metadata": {
    "collapsed": false,
    "pycharm": {
     "name": "#%%\n"
    }
   }
  },
  {
   "cell_type": "code",
   "execution_count": 5,
   "outputs": [
    {
     "name": "stdout",
     "output_type": "stream",
     "text": [
      "17.712 µs ± 0 ns per loop (mean ± std. dev. of 1 run, 100 loops each)\n"
     ]
    }
   ],
   "source": [
    "%timeit -n 100 -r 1 -p 6 compute(23_416_728_348_467_685)"
   ],
   "metadata": {
    "collapsed": false,
    "pycharm": {
     "name": "#%%\n"
    }
   }
  }
 ],
 "metadata": {
  "kernelspec": {
   "display_name": "Python 3",
   "language": "python",
   "name": "python3"
  },
  "language_info": {
   "codemirror_mode": {
    "name": "ipython",
    "version": 2
   },
   "file_extension": ".py",
   "mimetype": "text/x-python",
   "name": "python",
   "nbconvert_exporter": "python",
   "pygments_lexer": "ipython2",
   "version": "2.7.6"
  }
 },
 "nbformat": 4,
 "nbformat_minor": 0
}