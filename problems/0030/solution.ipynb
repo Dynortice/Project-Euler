{
 "cells": [
  {
   "cell_type": "markdown",
   "source": [
    "# Problem 30\n",
    "## Digit fifth powers\n",
    "\n",
    "Surprisingly there are only three numbers that can be written as the sum of fourth powers of their digits:\n",
    "\n",
    "$$1634 = 1^4 + 6^4 + 3^4 + 4^4$$\n",
    "\n",
    "$$8208 = 8^4 + 2^4 + 0^4 + 8^4$$\n",
    "\n",
    "$$9474 = 9^4 + 4^4 + 7^4 + 4^4$$\n",
    "\n",
    "As $1 = 1^4$ is not a sum it is not included.\n",
    "\n",
    "The sum of these numbers is $1634 + 8208 + 9474 = 19316$.\n",
    "\n",
    "Find the sum of all the numbers that can be written as the sum of fifth powers of their digits.\n",
    "\n",
    "OEIS Sequence: [A005188](https://oeis.org/A005188)\n",
    "\n",
    "## Solution\n",
    "\n",
    "Firstly we need to find the max number that can be represented as fifth powers of number. As max digit is $9$, then we need to check if number of digits of that number $9^5n$ less or equal to $n$. So for fifth power $n = 6$, eg $\\sum^n_{i=1}9^5$ is $6$-digit number but for $n = 7$ number would be still $6$-digit.\n",
    "\n",
    "Then we just need to find the all combinations with replacements for each $n$ from $2$ (as $1^n$ isn't sum) to $6$ digits. So we don't need to check both $98$ and $89$ 'coz the sum of fifth powers their digits are equal."
   ],
   "metadata": {
    "collapsed": false,
    "pycharm": {
     "name": "#%% md\n"
    }
   }
  },
  {
   "cell_type": "code",
   "execution_count": 1,
   "outputs": [],
   "source": [
    "from itertools import combinations_with_replacement\n",
    "from euler.numbers import get_digits"
   ],
   "metadata": {
    "collapsed": false,
    "pycharm": {
     "name": "#%%\n"
    }
   }
  },
  {
   "cell_type": "code",
   "execution_count": 2,
   "outputs": [],
   "source": [
    "def compute(n: int) -> int:\n",
    "    max_len = 2\n",
    "    result = 0\n",
    "    powers = {i: i ** n for i in range(10)}\n",
    "    while len(str(max_len * 9 ** n)) >= max_len:\n",
    "        for digits in combinations_with_replacement(powers.keys(), max_len):\n",
    "            candidate = sum(powers[i] for i in digits)\n",
    "            if sorted(get_digits(candidate)) == sorted(digits):\n",
    "                result += candidate\n",
    "        max_len += 1\n",
    "    return result"
   ],
   "metadata": {
    "collapsed": false,
    "pycharm": {
     "name": "#%%\n"
    }
   }
  },
  {
   "cell_type": "code",
   "execution_count": 3,
   "outputs": [
    {
     "data": {
      "text/plain": "19316"
     },
     "execution_count": 3,
     "metadata": {},
     "output_type": "execute_result"
    }
   ],
   "source": [
    "compute(4)"
   ],
   "metadata": {
    "collapsed": false,
    "pycharm": {
     "name": "#%%\n"
    }
   }
  },
  {
   "cell_type": "code",
   "execution_count": 4,
   "outputs": [
    {
     "data": {
      "text/plain": "443839"
     },
     "execution_count": 4,
     "metadata": {},
     "output_type": "execute_result"
    }
   ],
   "source": [
    "compute(5)"
   ],
   "metadata": {
    "collapsed": false,
    "pycharm": {
     "name": "#%%\n"
    }
   }
  },
  {
   "cell_type": "code",
   "execution_count": 5,
   "outputs": [
    {
     "name": "stdout",
     "output_type": "stream",
     "text": [
      "13.391 ms ± 0 ns per loop (mean ± std. dev. of 1 run, 100 loops each)\n"
     ]
    }
   ],
   "source": [
    "%timeit -n 100 -r 1 -p 6 compute(5)"
   ],
   "metadata": {
    "collapsed": false,
    "pycharm": {
     "name": "#%%\n"
    }
   }
  }
 ],
 "metadata": {
  "kernelspec": {
   "display_name": "Python 3",
   "language": "python",
   "name": "python3"
  },
  "language_info": {
   "codemirror_mode": {
    "name": "ipython",
    "version": 2
   },
   "file_extension": ".py",
   "mimetype": "text/x-python",
   "name": "python",
   "nbconvert_exporter": "python",
   "pygments_lexer": "ipython2",
   "version": "2.7.6"
  }
 },
 "nbformat": 4,
 "nbformat_minor": 0
}