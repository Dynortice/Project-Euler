{
 "cells": [
  {
   "cell_type": "markdown",
   "metadata": {
    "collapsed": true,
    "pycharm": {
     "name": "#%% md\n"
    }
   },
   "source": [
    "# Problem 85\n",
    "## Counting rectangles\n",
    "\n",
    "By counting carefully it can be seen that a rectangular grid measuring $3$ by $2$ contains eighteen rectangles:\n",
    "\n",
    "<center><img src = 'https://projecteuler.net/project/images/p085.png' title = 'Counting rectangles'></center><br/>\n",
    "\n",
    "Although there exists no rectangular grid that contains exactly two million rectangles, find the area of the grid with the nearest solution.\n",
    "\n",
    "OEIS Sequences [A000217](https://oeis.org/A000217), [A096948](https://oeis.org/A096948)\n",
    "\n",
    "## Solution\n",
    "\n",
    "Let $f(n)$ number of rectangles in $1 \\times n$ rectangle and $F(n, m)$ number of rectangles in $n \\times m$ rectangle.\n",
    "\n",
    "$$f(n) = \\frac{n(n + 1)}{2}$$\n",
    "\n",
    "$$F(n, m) = f(n) \\times f(m)$$"
   ]
  },
  {
   "cell_type": "code",
   "execution_count": 1,
   "outputs": [],
   "source": [
    "from math import isqrt\n",
    "from euler.calculus import triangular_numbers"
   ],
   "metadata": {
    "collapsed": false,
    "pycharm": {
     "name": "#%%\n"
    }
   }
  },
  {
   "cell_type": "code",
   "execution_count": 2,
   "outputs": [],
   "source": [
    "def compute(n: int) -> int:\n",
    "    limit = isqrt(n)\n",
    "    triangles = list(triangular_numbers(limit))\n",
    "    min_difference = n\n",
    "    nearest = 0\n",
    "    for i in range(limit):\n",
    "        for j in range(i + 1):\n",
    "            rectangles = triangles[i] * triangles[j]\n",
    "            difference = abs(n - rectangles)\n",
    "            if difference < min_difference:\n",
    "                min_difference = difference\n",
    "                nearest = i * j\n",
    "            if rectangles > n:\n",
    "                break\n",
    "    return nearest"
   ],
   "metadata": {
    "collapsed": false,
    "pycharm": {
     "name": "#%%\n"
    }
   }
  },
  {
   "cell_type": "code",
   "execution_count": 3,
   "outputs": [
    {
     "data": {
      "text/plain": "6"
     },
     "execution_count": 3,
     "metadata": {},
     "output_type": "execute_result"
    }
   ],
   "source": [
    "compute(18)"
   ],
   "metadata": {
    "collapsed": false,
    "pycharm": {
     "name": "#%%\n"
    }
   }
  },
  {
   "cell_type": "code",
   "execution_count": 4,
   "outputs": [
    {
     "data": {
      "text/plain": "2772"
     },
     "execution_count": 4,
     "metadata": {},
     "output_type": "execute_result"
    }
   ],
   "source": [
    "compute(2_000_000)"
   ],
   "metadata": {
    "collapsed": false,
    "pycharm": {
     "name": "#%%\n"
    }
   }
  },
  {
   "cell_type": "code",
   "execution_count": 5,
   "outputs": [
    {
     "name": "stdout",
     "output_type": "stream",
     "text": [
      "2.24481 ms ± 0 ns per loop (mean ± std. dev. of 1 run, 100 loops each)\n"
     ]
    }
   ],
   "source": [
    "%timeit -n 100 -r 1 -p 6 compute(2_000_000)"
   ],
   "metadata": {
    "collapsed": false,
    "pycharm": {
     "name": "#%%\n"
    }
   }
  }
 ],
 "metadata": {
  "kernelspec": {
   "display_name": "Python 3",
   "language": "python",
   "name": "python3"
  },
  "language_info": {
   "codemirror_mode": {
    "name": "ipython",
    "version": 2
   },
   "file_extension": ".py",
   "mimetype": "text/x-python",
   "name": "python",
   "nbconvert_exporter": "python",
   "pygments_lexer": "ipython2",
   "version": "2.7.6"
  }
 },
 "nbformat": 4,
 "nbformat_minor": 0
}