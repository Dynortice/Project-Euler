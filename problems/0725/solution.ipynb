{
 "cells": [
  {
   "cell_type": "markdown",
   "metadata": {
    "collapsed": true,
    "pycharm": {
     "name": "#%% md\n"
    }
   },
   "source": [
    "# Problem 725\n",
    "## Digit sum numbers\n",
    "\n",
    "A number where one digit is the sum of the **other** digits is called a *digit sum number* or DS-number for short. For example, $352$, $3003$ and $32812$ are DS-numbers.\n",
    "\n",
    "We define $S(n)$ to be the sum of all DS-numbers of n digits or less.\n",
    "\n",
    "You are given $S(3) = 63270$ and $S(7) = 85499991450$.\n",
    "\n",
    "Find $S(2020)$. Give your answer modulo $10 ^ {16}$.\n",
    "\n",
    "## Solution"
   ]
  },
  {
   "cell_type": "code",
   "execution_count": 1,
   "outputs": [],
   "source": [
    "from collections import Counter\n",
    "from math import factorial, prod\n",
    "from euler.big_int import BigInt"
   ],
   "metadata": {
    "collapsed": false,
    "pycharm": {
     "name": "#%%\n"
    }
   }
  },
  {
   "cell_type": "code",
   "execution_count": 2,
   "outputs": [],
   "source": [
    "def compute(n: int, modulo: int) -> BigInt:\n",
    "    def get_digits(k: int, limit: int) -> [[int]]:\n",
    "        result = list()\n",
    "        if k < 1:\n",
    "            return result\n",
    "        if k <= limit:\n",
    "            result.append([k])\n",
    "        for i in range(1, limit + 1):\n",
    "            for j in get_digits(k - i, i):\n",
    "                result.append([i] + j)\n",
    "        return result\n",
    "\n",
    "    factorials = dict()\n",
    "    all_digits = pow(9, -1, modulo) * (pow(10, n, modulo) - 1) % modulo\n",
    "    total = BigInt(0)\n",
    "    for digit in range(1, 10):\n",
    "        for other_digits in get_digits(digit, digit):\n",
    "            len_digits = len(other_digits)\n",
    "            if n - len_digits - 1 < 0:\n",
    "                continue\n",
    "            digits = Counter([digit] + other_digits)\n",
    "            for m in digits:\n",
    "                partial_digits = digits.copy()\n",
    "                partial_digits[m] -= 1\n",
    "                if len_digits not in factorials:\n",
    "                    factorials[len_digits] = prod(BigInt(n - i - 1) for i in range(len_digits))\n",
    "                multinomial = factorials[len_digits]\n",
    "                for p in partial_digits.values():\n",
    "                    multinomial //= factorial(p)\n",
    "                total += all_digits * m * multinomial\n",
    "        total %= modulo\n",
    "    return total"
   ],
   "metadata": {
    "collapsed": false,
    "pycharm": {
     "name": "#%%\n"
    }
   }
  },
  {
   "cell_type": "code",
   "execution_count": 3,
   "outputs": [
    {
     "data": {
      "text/plain": "63270"
     },
     "execution_count": 3,
     "metadata": {},
     "output_type": "execute_result"
    }
   ],
   "source": [
    "compute(3, 10000000000000000)"
   ],
   "metadata": {
    "collapsed": false,
    "pycharm": {
     "name": "#%%\n"
    }
   }
  },
  {
   "cell_type": "code",
   "execution_count": 4,
   "outputs": [
    {
     "data": {
      "text/plain": "85499991450"
     },
     "execution_count": 4,
     "metadata": {},
     "output_type": "execute_result"
    }
   ],
   "source": [
    "compute(7, 10000000000000000)"
   ],
   "metadata": {
    "collapsed": false,
    "pycharm": {
     "name": "#%%\n"
    }
   }
  },
  {
   "cell_type": "code",
   "execution_count": 5,
   "outputs": [
    {
     "data": {
      "text/plain": "4598797036650685"
     },
     "execution_count": 5,
     "metadata": {},
     "output_type": "execute_result"
    }
   ],
   "source": [
    "compute(2020, 10000000000000000)"
   ],
   "metadata": {
    "collapsed": false,
    "pycharm": {
     "name": "#%%\n"
    }
   }
  },
  {
   "cell_type": "code",
   "execution_count": 6,
   "outputs": [
    {
     "name": "stdout",
     "output_type": "stream",
     "text": [
      "970.007 ms ± 0 ns per loop (mean ± std. dev. of 1 run, 100 loops each)\n"
     ]
    }
   ],
   "source": [
    "%timeit -n 100 -r 1 -p 6 compute(2020, 10000000000000000)"
   ],
   "metadata": {
    "collapsed": false,
    "pycharm": {
     "name": "#%%\n"
    }
   }
  }
 ],
 "metadata": {
  "kernelspec": {
   "display_name": "Python 3",
   "language": "python",
   "name": "python3"
  },
  "language_info": {
   "codemirror_mode": {
    "name": "ipython",
    "version": 2
   },
   "file_extension": ".py",
   "mimetype": "text/x-python",
   "name": "python",
   "nbconvert_exporter": "python",
   "pygments_lexer": "ipython2",
   "version": "2.7.6"
  }
 },
 "nbformat": 4,
 "nbformat_minor": 0
}