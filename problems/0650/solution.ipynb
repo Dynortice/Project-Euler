{
 "cells": [
  {
   "cell_type": "markdown",
   "metadata": {
    "collapsed": true,
    "pycharm": {
     "name": "#%% md\n"
    }
   },
   "source": [
    "# Problem 650\n",
    "## Divisors of Binomial Product\n",
    "\n",
    "Let $\\displaystyle B(n) = \\prod_{k = 0}^n \\binom{n}{k}$, a product of binomial coefficients.\n",
    "\n",
    "For example, $\\displaystyle B(5) = \\binom{5}{0} \\times \\binom{5}{1} \\times \\binom{5}{2} \\times \\binom{5}{3} \\times \\binom{5}{4} \\times \\binom{5}{5} = 1 \\times 5 \\times 10 \\times 10 \\times 5 \\times 1 = 2500$.\n",
    "\n",
    "Let $\\displaystyle D(n) = \\sum_{d | B(n)} d$, the sum of the divisors of $B(n)$.\n",
    "\n",
    "For example, the divisors of $B(5)$ are $1$, $2$, $4$, $5$, $10$, $20$, $25$, $50$, $100$, $125$, $500$, $625$, $1250$ and $2500$, so $D(5) = 1 + 2 + 4 + 5 + 10 + 20 + 25 + 50 + 100 + 125 + 250 + 500 + 625 + 1250 + 2500 = 5467$.\n",
    "\n",
    "Let $\\displaystyle S(n) = \\sum_{k = 1}^n D(k)$,\n",
    "\n",
    "You are given $S(5) = 5736$, $S(10) = 141740594713218418$ and $S(100) \\mod 1000000007 = 332792866$.\n",
    "\n",
    "Find $S(20000) \\mod 1000000007$.\n",
    "\n",
    "## Solution\n",
    "\n",
    "The product of binomial coefficients could be written as:\n",
    "\n",
    "$$\\prod_{k = 0}^n \\binom{n}{k} = \\prod_{k = 0}^n k ^ {2k - n - 1} = \\frac{1 ^ 1 \\times 2 ^ 2 \\times 3 ^ 3 \\times ... \\times n ^ n}{1! \\times 2! \\times 3! \\times ... \\times n!} = \\prod_{k = 0}^n \\frac{k ^ k}{k!}$$\n",
    "\n",
    "If $n$ is a power of a prime number $p$, then sum of all divisors of $n$ is $\\sigma(n)$:\n",
    "\n",
    "$$\\sigma(n) = \\frac{p ^ {k + 1} - 1}{p - 1}$$.\n",
    "\n",
    "For example:\n",
    "\n",
    "$$B(5) = \\frac{1 ^ 1 \\times 2 ^ 2 \\times 3 ^ 3 \\times 4 ^ 4 \\times 5 ^ 5}{1! \\times 2! \\times 3! \\times 4! \\times 5!} = \\frac{1 ^ 1 \\times 2 ^ 2 \\times 3 ^ 4 \\times (2 ^ 2) ^ 4 \\times 5 ^ 5}{1 \\times (1 \\times 2) \\times (1 \\times 2 \\times 3) \\times (1 \\times 2 \\times 3 \\times 2 ^ 2) \\times (1 \\times 2 \\times 3 \\times 2 ^ 2 \\times 5)} =$$\n",
    "\n",
    "$$= \\frac{1 ^ 1 \\times 2 ^ {10} \\times 3 ^ 3 \\times 5 ^ 5}{1 ^ 5 \\times 2 ^ 8 \\times 3 ^ 3 \\times 5 ^ 1} = 2 ^ 2 \\times 5 ^ 4$$\n",
    "\n",
    "$$D(5) = \\sigma(2 ^ 2) \\times \\sigma(5 ^ 4) = \\frac{2 ^ {2 + 1} - 1}{2 - 1} \\times \\frac{5 ^ {4 + 1} - 1}{5 - 1} = \\frac{7}{1} \\times \\frac{3124}{4} = 7 \\times 781 = 5467$$"
   ]
  },
  {
   "cell_type": "code",
   "execution_count": 1,
   "outputs": [],
   "source": [
    "from euler.primes import get_primes"
   ],
   "metadata": {
    "collapsed": false,
    "pycharm": {
     "name": "#%%\n"
    }
   }
  },
  {
   "cell_type": "code",
   "execution_count": 2,
   "outputs": [],
   "source": [
    "def compute(n: int, modulo: int = 1000000007) -> int:\n",
    "    primes = get_primes(n)\n",
    "    result = [0] + [1] * n\n",
    "    for prime in primes:\n",
    "        past_super, last_super, new_super = 0, 0, 0\n",
    "        last_hyper, new_hyper = 0, 0\n",
    "        inverse_modulo = pow(prime - 1, -1, modulo)\n",
    "        for i in range(prime, n + 1):\n",
    "            number = i\n",
    "            j = 0\n",
    "            while number % prime == 0:\n",
    "                j += 1\n",
    "                number //= prime\n",
    "            new_super, new_hyper = last_super + j, last_hyper + i * j\n",
    "            past_super = last_super = last_super + past_super\n",
    "            result[i - 1] *= ((pow(prime, last_hyper - last_super + 1, modulo) - 1) * inverse_modulo) % modulo\n",
    "            result[i - 1] %= modulo\n",
    "            last_super, last_hyper = new_super, new_hyper\n",
    "        result[n] *= ((pow(prime, new_hyper - new_super - past_super + 1, modulo) - 1) * inverse_modulo) % modulo\n",
    "        result[n] %= modulo\n",
    "    return sum(result) % modulo"
   ],
   "metadata": {
    "collapsed": false,
    "pycharm": {
     "name": "#%%\n"
    }
   }
  },
  {
   "cell_type": "code",
   "execution_count": 3,
   "outputs": [
    {
     "data": {
      "text/plain": "5736"
     },
     "execution_count": 3,
     "metadata": {},
     "output_type": "execute_result"
    }
   ],
   "source": [
    "compute(5)"
   ],
   "metadata": {
    "collapsed": false,
    "pycharm": {
     "name": "#%%\n"
    }
   }
  },
  {
   "cell_type": "code",
   "execution_count": 4,
   "outputs": [
    {
     "data": {
      "text/plain": "721034267"
     },
     "execution_count": 4,
     "metadata": {},
     "output_type": "execute_result"
    }
   ],
   "source": [
    "compute(10)"
   ],
   "metadata": {
    "collapsed": false,
    "pycharm": {
     "name": "#%%\n"
    }
   }
  },
  {
   "cell_type": "code",
   "execution_count": 5,
   "outputs": [
    {
     "data": {
      "text/plain": "332792866"
     },
     "execution_count": 5,
     "metadata": {},
     "output_type": "execute_result"
    }
   ],
   "source": [
    "compute(100)"
   ],
   "metadata": {
    "collapsed": false,
    "pycharm": {
     "name": "#%%\n"
    }
   }
  },
  {
   "cell_type": "code",
   "execution_count": 6,
   "outputs": [
    {
     "data": {
      "text/plain": "538319652"
     },
     "execution_count": 6,
     "metadata": {},
     "output_type": "execute_result"
    }
   ],
   "source": [
    "compute(20000)"
   ],
   "metadata": {
    "collapsed": false,
    "pycharm": {
     "name": "#%%\n"
    }
   }
  },
  {
   "cell_type": "code",
   "execution_count": 7,
   "outputs": [
    {
     "name": "stdout",
     "output_type": "stream",
     "text": [
      "53.9685 s ± 0 ns per loop (mean ± std. dev. of 1 run, 100 loops each)\n"
     ]
    }
   ],
   "source": [
    "%timeit -n 100 -r 1 -p 6 compute(20000, 1000000007)"
   ],
   "metadata": {
    "collapsed": false,
    "pycharm": {
     "name": "#%%\n"
    }
   }
  }
 ],
 "metadata": {
  "kernelspec": {
   "display_name": "Python 3",
   "language": "python",
   "name": "python3"
  },
  "language_info": {
   "codemirror_mode": {
    "name": "ipython",
    "version": 2
   },
   "file_extension": ".py",
   "mimetype": "text/x-python",
   "name": "python",
   "nbconvert_exporter": "python",
   "pygments_lexer": "ipython2",
   "version": "2.7.6"
  }
 },
 "nbformat": 4,
 "nbformat_minor": 0
}