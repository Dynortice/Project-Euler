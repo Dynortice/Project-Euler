{
 "cells": [
  {
   "cell_type": "markdown",
   "metadata": {
    "collapsed": true,
    "pycharm": {
     "name": "#%% md\n"
    }
   },
   "source": [
    "# Problem 46\n",
    "## Goldbach's other conjecture\n",
    "\n",
    "It was proposed by Christian Goldbach that every odd composite number can be written as the sum of a prime and twice a square.\n",
    "\n",
    "$$9 = 7 + 2 \\times 1^2$$\n",
    "\n",
    "$$15 = 7 + 2 \\times 2^2$$\n",
    "\n",
    "$$21 = 3 + 2 \\times 3^2$$\n",
    "\n",
    "$$25 = 7 + 2 \\times 3^2$$\n",
    "\n",
    "$$27 = 19 + 2 \\times 2^2$$\n",
    "\n",
    "$$33 = 31 + 2 \\times 1^2$$\n",
    "\n",
    "It turns out that the conjecture was false.\n",
    "\n",
    "What is the smallest odd composite that cannot be written as the sum of a prime and twice a square?\n",
    "\n",
    "OEIS Sequence: [A060003](https://oeis.org/A060003)\n",
    "\n",
    "## Solution"
   ]
  },
  {
   "cell_type": "code",
   "execution_count": 1,
   "outputs": [],
   "source": [
    "from euler.primes import get_primality\n",
    "from euler.numbers import is_perfect_square"
   ],
   "metadata": {
    "collapsed": false,
    "pycharm": {
     "name": "#%%\n"
    }
   }
  },
  {
   "cell_type": "code",
   "execution_count": 2,
   "outputs": [],
   "source": [
    "def compute() -> int:\n",
    "    sieve = get_primality(6000)\n",
    "    primes = [i for (i, is_prime) in enumerate(sieve) if is_prime]\n",
    "    i = 9\n",
    "    while True:\n",
    "        if not sieve[i]:\n",
    "            j = 0\n",
    "            while primes[j] < i:\n",
    "                if is_perfect_square((i - primes[j]) // 2):\n",
    "                    break\n",
    "                j += 1\n",
    "            else:\n",
    "                return i\n",
    "        i += 2"
   ],
   "metadata": {
    "collapsed": false,
    "pycharm": {
     "name": "#%%\n"
    }
   }
  },
  {
   "cell_type": "code",
   "execution_count": 3,
   "outputs": [
    {
     "data": {
      "text/plain": "5777"
     },
     "execution_count": 3,
     "metadata": {},
     "output_type": "execute_result"
    }
   ],
   "source": [
    "compute()"
   ],
   "metadata": {
    "collapsed": false,
    "pycharm": {
     "name": "#%%\n"
    }
   }
  },
  {
   "cell_type": "code",
   "execution_count": 4,
   "outputs": [
    {
     "name": "stdout",
     "output_type": "stream",
     "text": [
      "91.3583 ms ± 0 ns per loop (mean ± std. dev. of 1 run, 100 loops each)\n"
     ]
    }
   ],
   "source": [
    "%timeit -n 100 -r 1 -p 6 compute()"
   ],
   "metadata": {
    "collapsed": false,
    "pycharm": {
     "name": "#%%\n"
    }
   }
  }
 ],
 "metadata": {
  "kernelspec": {
   "display_name": "Python 3",
   "language": "python",
   "name": "python3"
  },
  "language_info": {
   "codemirror_mode": {
    "name": "ipython",
    "version": 2
   },
   "file_extension": ".py",
   "mimetype": "text/x-python",
   "name": "python",
   "nbconvert_exporter": "python",
   "pygments_lexer": "ipython2",
   "version": "2.7.6"
  }
 },
 "nbformat": 4,
 "nbformat_minor": 0
}