{
 "cells": [
  {
   "cell_type": "markdown",
   "metadata": {
    "collapsed": true,
    "pycharm": {
     "name": "#%% md\n"
    }
   },
   "source": [
    "# Problem 686\n",
    "## Powers of Two\n",
    "\n",
    "$2 ^ 7 = 128$ is the first power of two whose leading digits are $12$. The next power of two whose leading digits are $12$ is $2 ^ {80}$.\n",
    "\n",
    "Define $p(L, n)$ to be the $n$th-smallest value of $j$ such that the base $10$ representation of $2 ^ j$ begins with the digits of $L$. So $p(12, 1) = 7$ and $p(12, 2) = 80$.\n",
    "\n",
    "You are also given that $p(123, 45) = 12710$\n",
    "\n",
    "Find $p(123, 678910)$\n",
    "\n",
    "## Solution"
   ]
  },
  {
   "cell_type": "code",
   "execution_count": 1,
   "outputs": [],
   "source": [
    "from math import ceil, log, log10, modf"
   ],
   "metadata": {
    "collapsed": false,
    "pycharm": {
     "name": "#%%\n"
    }
   }
  },
  {
   "cell_type": "code",
   "execution_count": 2,
   "outputs": [],
   "source": [
    "def compute(digits: int, n: int) -> int:\n",
    "    def mod(k: float) -> float:\n",
    "        k %= 1\n",
    "        return k if k < 0.5 else k - 1\n",
    "\n",
    "    def check(k: float) -> bool:\n",
    "        return (lower and lower_limit <= k < upper_limit) or (not lower and lower_limit >= k > upper_limit)\n",
    "\n",
    "    limit = (log(digits + 1) - log(digits)) / log(10)\n",
    "    lower_limit, upper_limit = log(digits) / log(10) % 1, log(digits + 1) / log(10) % 1\n",
    "    lower = lower_limit < upper_limit\n",
    "    error = log(2) / log(10)\n",
    "    x = error % 1\n",
    "    t, convergent, convergent_error = 0, 1, 1\n",
    "    while abs(convergent_error) > limit:\n",
    "        x, integer = modf(1 / x)\n",
    "        convergent, t = convergent * integer + t, convergent\n",
    "        convergent_error = mod(convergent * error)\n",
    "    x, integer = modf(1 / x)\n",
    "    semi_convergent, semi_convergent_error = t, 1\n",
    "    while abs(semi_convergent_error) > limit:\n",
    "        semi_convergent += convergent\n",
    "        semi_convergent_error = mod(semi_convergent * error)\n",
    "    differences = (convergent, semi_convergent, convergent + semi_convergent)\n",
    "    if convergent_error > 0:\n",
    "        convergent_limit = convergent * ceil(lower_limit / convergent_error)\n",
    "    else:\n",
    "        convergent_limit = semi_convergent * ceil(lower_limit / semi_convergent_error)\n",
    "    convergents = list()\n",
    "    while convergent < convergent_limit:\n",
    "        convergents.append(convergent)\n",
    "        convergent, t = integer * convergent + t, convergent\n",
    "        x, integer = modf(1 / x)\n",
    "    convergents = convergents[1:]\n",
    "    for difference in reversed(convergents):\n",
    "        while convergent_limit > difference:\n",
    "            x = (convergent_limit - difference) * error % 1\n",
    "            if check(x):\n",
    "                convergent_limit -= difference\n",
    "            else:\n",
    "                break\n",
    "    while True:\n",
    "        for difference in differences:\n",
    "            if difference > convergent_limit:\n",
    "                continue\n",
    "            x = (convergent_limit - difference) * error % 1\n",
    "            if check(x):\n",
    "                convergent_limit -= difference\n",
    "                break\n",
    "        else:\n",
    "            break\n",
    "    while True:\n",
    "        for difference in differences:\n",
    "            x = (convergent_limit + difference) * error % 1\n",
    "            if check(x):\n",
    "                n -= 1\n",
    "                if n == 0:\n",
    "                    return int(convergent_limit)\n",
    "                convergent_limit += difference\n",
    "                break"
   ],
   "metadata": {
    "collapsed": false,
    "pycharm": {
     "name": "#%%\n"
    }
   }
  },
  {
   "cell_type": "code",
   "execution_count": 3,
   "outputs": [
    {
     "data": {
      "text/plain": "7"
     },
     "execution_count": 3,
     "metadata": {},
     "output_type": "execute_result"
    }
   ],
   "source": [
    "compute(12, 1)"
   ],
   "metadata": {
    "collapsed": false,
    "pycharm": {
     "name": "#%%\n"
    }
   }
  },
  {
   "cell_type": "code",
   "execution_count": 4,
   "outputs": [
    {
     "data": {
      "text/plain": "80"
     },
     "execution_count": 4,
     "metadata": {},
     "output_type": "execute_result"
    }
   ],
   "source": [
    "compute(12, 2)"
   ],
   "metadata": {
    "collapsed": false,
    "pycharm": {
     "name": "#%%\n"
    }
   }
  },
  {
   "cell_type": "code",
   "execution_count": 5,
   "outputs": [
    {
     "data": {
      "text/plain": "12710"
     },
     "execution_count": 5,
     "metadata": {},
     "output_type": "execute_result"
    }
   ],
   "source": [
    "compute(123, 45)"
   ],
   "metadata": {
    "collapsed": false,
    "pycharm": {
     "name": "#%%\n"
    }
   }
  },
  {
   "cell_type": "code",
   "execution_count": 6,
   "outputs": [
    {
     "data": {
      "text/plain": "193060223"
     },
     "execution_count": 6,
     "metadata": {},
     "output_type": "execute_result"
    }
   ],
   "source": [
    "compute(123, 678910)"
   ],
   "metadata": {
    "collapsed": false,
    "pycharm": {
     "name": "#%%\n"
    }
   }
  },
  {
   "cell_type": "code",
   "execution_count": 7,
   "outputs": [
    {
     "name": "stdout",
     "output_type": "stream",
     "text": [
      "280.494 ms ± 0 ns per loop (mean ± std. dev. of 1 run, 100 loops each)\n"
     ]
    }
   ],
   "source": [
    "%timeit -n 100 -r 1 -p 6 compute(123, 678910)"
   ],
   "metadata": {
    "collapsed": false,
    "pycharm": {
     "name": "#%%\n"
    }
   }
  }
 ],
 "metadata": {
  "kernelspec": {
   "display_name": "Python 3",
   "language": "python",
   "name": "python3"
  },
  "language_info": {
   "codemirror_mode": {
    "name": "ipython",
    "version": 2
   },
   "file_extension": ".py",
   "mimetype": "text/x-python",
   "name": "python",
   "nbconvert_exporter": "python",
   "pygments_lexer": "ipython2",
   "version": "2.7.6"
  }
 },
 "nbformat": 4,
 "nbformat_minor": 0
}