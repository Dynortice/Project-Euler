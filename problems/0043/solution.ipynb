{
 "cells": [
  {
   "cell_type": "markdown",
   "metadata": {
    "collapsed": true,
    "pycharm": {
     "name": "#%% md\n"
    }
   },
   "source": [
    "# Problem 43\n",
    "## Sub-string divisibility\n",
    "\n",
    "The number, $1406357289$, is a $0$ to $9$ pandigital number because it is made up of each of the digits $0$ to $9$ in some order, but it also has a rather interesting sub-string divisibility property.\n",
    "\n",
    "Let $d_1$ be the $1^{st}$ digit, $d_2$ be the $2^{nd}$ digit, and so on. In this way, we note the following:\n",
    "\n",
    "- $d_2 d_3 d_4 = 406$ is divisible by $2$\n",
    "- $d_3 d_4 d_5 = 063$ is divisible by $3$\n",
    "- $d_4 d_5 d_6 = 635$ is divisible by $5$\n",
    "- $d_5 d_6 d_7 = 357$ is divisible by $7$\n",
    "- $d_6 d_7 d_8 = 572$ is divisible by $11$\n",
    "- $d_7 d_8 d_9 = 728$ is divisible by $13$\n",
    "- $d_8 d_9 d_{10} = 289$ is divisible by $17$\n",
    "\n",
    "Find the sum of all $0$ to $9$ pandigital numbers with this property.\n",
    "\n",
    "## Solution"
   ]
  },
  {
   "cell_type": "code",
   "execution_count": 1,
   "outputs": [],
   "source": [
    "from itertools import permutations\n",
    "from euler.primes import prime_numbers"
   ],
   "metadata": {
    "collapsed": false,
    "pycharm": {
     "name": "#%%\n"
    }
   }
  },
  {
   "cell_type": "code",
   "execution_count": 2,
   "outputs": [],
   "source": [
    "def compute(n: int) -> int:\n",
    "    def get_permutation_numbers(used: tuple, prime_index):\n",
    "        sub_result = 0\n",
    "        for i in digits.difference(used):\n",
    "            if int(i + ''.join(used[:2])) % primes[prime_index] == 0:\n",
    "                if prime_index < 6:\n",
    "                    sub_result += get_permutation_numbers(tuple(i) + used, prime_index + 1)\n",
    "                else:\n",
    "                    used_digits = tuple(i) + used\n",
    "                    sub_result += int(''.join(tuple(digits.difference(used_digits)) + used_digits))\n",
    "        return sub_result\n",
    "\n",
    "    digits = set(map(str, range(n + 1)))\n",
    "    primes = list(reversed(list(prime_numbers(17))))\n",
    "    result = 0\n",
    "    for permutation in permutations(digits, 3):\n",
    "        if int(''.join(permutation)) % primes[9 - n] == 0:\n",
    "            result += get_permutation_numbers(permutation, 10 - n)\n",
    "    return result"
   ],
   "metadata": {
    "collapsed": false,
    "pycharm": {
     "name": "#%%\n"
    }
   }
  },
  {
   "cell_type": "code",
   "execution_count": 3,
   "outputs": [
    {
     "data": {
      "text/plain": "16695334890"
     },
     "execution_count": 3,
     "metadata": {},
     "output_type": "execute_result"
    }
   ],
   "source": [
    "compute(9)"
   ],
   "metadata": {
    "collapsed": false,
    "pycharm": {
     "name": "#%%\n"
    }
   }
  },
  {
   "cell_type": "code",
   "execution_count": 4,
   "outputs": [
    {
     "name": "stdout",
     "output_type": "stream",
     "text": [
      "546.13 µs ± 0 ns per loop (mean ± std. dev. of 1 run, 100 loops each)\n"
     ]
    }
   ],
   "source": [
    "%timeit -n 100 -r 1 -p 6 compute(9)"
   ],
   "metadata": {
    "collapsed": false,
    "pycharm": {
     "name": "#%%\n"
    }
   }
  }
 ],
 "metadata": {
  "kernelspec": {
   "display_name": "Python 3",
   "language": "python",
   "name": "python3"
  },
  "language_info": {
   "codemirror_mode": {
    "name": "ipython",
    "version": 2
   },
   "file_extension": ".py",
   "mimetype": "text/x-python",
   "name": "python",
   "nbconvert_exporter": "python",
   "pygments_lexer": "ipython2",
   "version": "2.7.6"
  }
 },
 "nbformat": 4,
 "nbformat_minor": 0
}