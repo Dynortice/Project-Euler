{
 "cells": [
  {
   "cell_type": "markdown",
   "metadata": {
    "collapsed": true,
    "pycharm": {
     "name": "#%% md\n"
    }
   },
   "source": [
    "# Problem 743\n",
    "## Window into a Matrix\n",
    "\n",
    "A window into a matrix is a contiguous sub matrix.\n",
    "\n",
    "Consider a $2 \\times n$ matrix where every entry is either $0$ or $1$. Let $A(k, n)$ be the total of these matrices such that the sum of the entries in every $2 \\times k$ window is $k$.\n",
    "\n",
    "You are given that $A(3, 9) = 560$ and $A(4, 20) = 1060870$.\n",
    "\n",
    "Find $A(10^8, 10^{16})$. Give your answer modulo $1000000007$."
   ]
  },
  {
   "cell_type": "code",
   "execution_count": 1,
   "outputs": [],
   "source": [
    "def compute(k: int, n: int, modulo: int = 1_000_000_007) -> int:\n",
    "    result, binomial, s = 0, 1, k\n",
    "    power = pow(2, n, modulo)\n",
    "    power_inv = pow(pow(4, n // k, modulo), -1, modulo)\n",
    "    for i in range(1, k // 2 + 2):\n",
    "        result = (result + binomial * power) % modulo\n",
    "        binomial = binomial * s % modulo * (s - 1) % modulo * pow(pow(i, -1, modulo), 2, modulo) % modulo\n",
    "        s -= 2\n",
    "        power = (power * power_inv) % modulo\n",
    "    return result"
   ],
   "metadata": {
    "collapsed": false,
    "pycharm": {
     "name": "#%%\n"
    }
   }
  },
  {
   "cell_type": "code",
   "execution_count": 2,
   "outputs": [
    {
     "data": {
      "text/plain": "560"
     },
     "execution_count": 2,
     "metadata": {},
     "output_type": "execute_result"
    }
   ],
   "source": [
    "compute(3, 9)"
   ],
   "metadata": {
    "collapsed": false,
    "pycharm": {
     "name": "#%%\n"
    }
   }
  },
  {
   "cell_type": "code",
   "execution_count": 3,
   "outputs": [
    {
     "data": {
      "text/plain": "1060870"
     },
     "execution_count": 3,
     "metadata": {},
     "output_type": "execute_result"
    }
   ],
   "source": [
    "compute(4, 20)"
   ],
   "metadata": {
    "collapsed": false,
    "pycharm": {
     "name": "#%%\n"
    }
   }
  },
  {
   "cell_type": "code",
   "execution_count": 4,
   "outputs": [
    {
     "data": {
      "text/plain": "259158998"
     },
     "execution_count": 4,
     "metadata": {},
     "output_type": "execute_result"
    }
   ],
   "source": [
    "compute(100_000_000, 10_000_000_000_000_000)"
   ],
   "metadata": {
    "collapsed": false,
    "pycharm": {
     "name": "#%%\n"
    }
   }
  },
  {
   "cell_type": "code",
   "execution_count": 5,
   "outputs": [
    {
     "name": "stdout",
     "output_type": "stream",
     "text": [
      "2min 14s ± 0 ns per loop (mean ± std. dev. of 1 run, 100 loops each)\n"
     ]
    }
   ],
   "source": [
    "%timeit -n 100 -r 1 -p 6 compute(100_000_000, 10_000_000_000_000_000)"
   ],
   "metadata": {
    "collapsed": false,
    "pycharm": {
     "name": "#%%\n"
    }
   }
  }
 ],
 "metadata": {
  "kernelspec": {
   "display_name": "Python 3",
   "language": "python",
   "name": "python3"
  },
  "language_info": {
   "codemirror_mode": {
    "name": "ipython",
    "version": 2
   },
   "file_extension": ".py",
   "mimetype": "text/x-python",
   "name": "python",
   "nbconvert_exporter": "python",
   "pygments_lexer": "ipython2",
   "version": "2.7.6"
  }
 },
 "nbformat": 4,
 "nbformat_minor": 0
}