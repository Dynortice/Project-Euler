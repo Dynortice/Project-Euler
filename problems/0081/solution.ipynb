{
 "cells": [
  {
   "cell_type": "markdown",
   "metadata": {
    "collapsed": true,
    "pycharm": {
     "name": "#%% md\n"
    }
   },
   "source": [
    "# Problem 81\n",
    "## Path sum: two ways\n",
    "\n",
    "In the $5$ by $5$ matrix below, the minimal path sum from the top left to the bottom right, by only moving to the right and down, is indicated in bold red and is equal to $2427$.\n",
    "\n",
    "$$\\begin{pmatrix} \\boldsymbol{131} & 673 & 234 & 103 & 18 \\\\ \\boldsymbol{201} & \\boldsymbol{96} & \\boldsymbol{342} & 965 & 150 \\\\ 630 & 803 & \\boldsymbol{746} & \\boldsymbol{422} & 111 \\\\ 537 & 699 & 497 & \\boldsymbol{121} & 956 \\\\ 805 & 732 & 524 & \\boldsymbol{37} & \\boldsymbol{331} \\end{pmatrix}$$\n",
    "\n",
    "Find the minimal path sum from the top left to the bottom right by only moving right and down in [matrix.txt](https://projecteuler.net/project/resources/p081_matrix.txt) (right click and \"Save Link/Target As...\"), a 31K text file containing an $80$ by $80$ matrix.\n",
    "\n",
    "## Solution"
   ]
  },
  {
   "cell_type": "code",
   "execution_count": 1,
   "outputs": [],
   "source": [
    "from euler.math import fast_min"
   ],
   "metadata": {
    "collapsed": false,
    "pycharm": {
     "name": "#%%\n"
    }
   }
  },
  {
   "cell_type": "code",
   "execution_count": 2,
   "outputs": [],
   "source": [
    "def compute(grid: list[list[int, ...], ...]) -> int:\n",
    "    edge = len(grid) - 1\n",
    "    for i in range(edge - 1, -1, -1):\n",
    "        grid[edge][i] += grid[edge][i+1]\n",
    "        grid[i][edge] += grid[i+1][edge]\n",
    "    for i in range(edge - 1, -1, -1):\n",
    "        for j in range(edge - 1, -1, -1):\n",
    "            grid[i][j] += fast_min(grid[i+1][j], grid[i][j+1])\n",
    "    return grid[0][0]"
   ],
   "metadata": {
    "collapsed": false,
    "pycharm": {
     "name": "#%%\n"
    }
   }
  },
  {
   "cell_type": "code",
   "execution_count": 3,
   "outputs": [],
   "source": [
    "matrix = [[131, 673, 234, 103, 18],\n",
    "          [201, 96, 342, 965, 150],\n",
    "          [630, 803, 746, 422, 111],\n",
    "          [537, 699, 497, 121, 956],\n",
    "          [805, 732, 524, 37, 331]]\n",
    "\n",
    "path = 'p081_matrix.txt'"
   ],
   "metadata": {
    "collapsed": false,
    "pycharm": {
     "name": "#%%\n"
    }
   }
  },
  {
   "cell_type": "code",
   "execution_count": 4,
   "outputs": [
    {
     "data": {
      "text/plain": "2427"
     },
     "execution_count": 4,
     "metadata": {},
     "output_type": "execute_result"
    }
   ],
   "source": [
    "compute(matrix)"
   ],
   "metadata": {
    "collapsed": false,
    "pycharm": {
     "name": "#%%\n"
    }
   }
  },
  {
   "cell_type": "code",
   "execution_count": 5,
   "outputs": [
    {
     "data": {
      "text/plain": "427337"
     },
     "execution_count": 5,
     "metadata": {},
     "output_type": "execute_result"
    }
   ],
   "source": [
    "compute([list(map(int, i.split(','))) for i in open(path).read().split('\\n')])"
   ],
   "metadata": {
    "collapsed": false,
    "pycharm": {
     "name": "#%%\n"
    }
   }
  },
  {
   "cell_type": "code",
   "execution_count": 6,
   "outputs": [
    {
     "name": "stdout",
     "output_type": "stream",
     "text": [
      "2.57629 ms ± 0 ns per loop (mean ± std. dev. of 1 run, 100 loops each)\n"
     ]
    }
   ],
   "source": [
    "%timeit -n 100 -r 1 -p 6 compute([list(map(int, i.split(','))) for i in open(path).read().split('\\n')])"
   ],
   "metadata": {
    "collapsed": false,
    "pycharm": {
     "name": "#%%\n"
    }
   }
  }
 ],
 "metadata": {
  "kernelspec": {
   "display_name": "Python 3",
   "language": "python",
   "name": "python3"
  },
  "language_info": {
   "codemirror_mode": {
    "name": "ipython",
    "version": 2
   },
   "file_extension": ".py",
   "mimetype": "text/x-python",
   "name": "python",
   "nbconvert_exporter": "python",
   "pygments_lexer": "ipython2",
   "version": "2.7.6"
  }
 },
 "nbformat": 4,
 "nbformat_minor": 0
}