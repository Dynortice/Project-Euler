{
 "cells": [
  {
   "cell_type": "markdown",
   "metadata": {
    "collapsed": true,
    "pycharm": {
     "name": "#%% md\n"
    }
   },
   "source": [
    "# Problem 27\n",
    "## Quadratic primes\n",
    "\n",
    "Euler discovered the remarkable quadratic formula:\n",
    "\n",
    "$$n^2+n+41$$\n",
    "\n",
    "It turns out that the formula will produce $40$ primes for the consecutive integer values $0 \\leq n \\leq 39$. However, when $n = 40$, $40^2 + 40 + 41 = 40 \\times (40 + 1) + 41$ is divisible by $41$, and certainly when $n = 41$, $41^2 + 41 + 41$ is clearly divisible by $41$.\n",
    "\n",
    "The incredible formula $n^2 - 79 \\times n + 1601$ was discovered, which produces $80$ primes for the consecutive values $0 \\leq n \\leq 79$. The product of the coefficients, $-79$ and $1601$, is $-126479$.\n",
    "\n",
    "Considering quadratics of the form:\n",
    "\n",
    "$n^2 + an + b$, where $|a| < 1000$ and $|b| \\leq 1000$\n",
    "\n",
    "where $|n|$ is the modulus / absolute value of $n$\n",
    "\n",
    "e.g. $|11| = 11$ and $|-4| = 4$\n",
    "\n",
    "Find the products of the coefficients, $a$ and $b$, for the quadratic expression that produces the maximum number of primes for consecutive values of $n$, starting with $n = 0$.\n",
    "\n",
    "## Solution\n",
    "Since $n^2 + an + b$ must be prime for $n_0=0$,\n",
    "\n",
    "$$n^2_0+an_0+b=b$$\n",
    "\n",
    "So $b$ must be prime. Also for $n_1=1$:\n",
    "\n",
    "$$n^2_1+an_1+b=1+a+b$$.\n",
    "\n",
    "Since $b$ is prime and all primes but $2$ are odd, it follows that $a$ must be odd for all $b\\ne2$ and even for $b=2$."
   ]
  },
  {
   "cell_type": "code",
   "execution_count": 1,
   "outputs": [],
   "source": [
    "from euler.primes import get_primality"
   ],
   "metadata": {
    "collapsed": false,
    "pycharm": {
     "name": "#%%\n"
    }
   }
  },
  {
   "cell_type": "code",
   "execution_count": 2,
   "outputs": [],
   "source": [
    "def compute(max_a: int, max_b: int):\n",
    "    prime = get_primality(max_a * max_b)\n",
    "    primes = [i for (i, is_prime) in enumerate(prime[:max_b + 1]) if is_prime]  # all primes except 2\n",
    "    primes += [-prime for prime in primes]\n",
    "    max_sequence, result = 0, 0\n",
    "    for a in range(-max_a + (1 if max_a % 2 == 0 else 2), max_a, 2):\n",
    "        for b in primes:\n",
    "            n = 0\n",
    "            while True:\n",
    "                if not prime[abs(n * (n + a) + b)]:\n",
    "                    break\n",
    "                n += 1\n",
    "            if n > max_sequence:\n",
    "                max_sequence, result = n, a * b\n",
    "    return result"
   ],
   "metadata": {
    "collapsed": false,
    "pycharm": {
     "name": "#%%\n"
    }
   }
  },
  {
   "cell_type": "code",
   "execution_count": 3,
   "outputs": [
    {
     "data": {
      "text/plain": "-59231"
     },
     "execution_count": 3,
     "metadata": {},
     "output_type": "execute_result"
    }
   ],
   "source": [
    "compute(1000, 1000)"
   ],
   "metadata": {
    "collapsed": false,
    "pycharm": {
     "name": "#%%\n"
    }
   }
  },
  {
   "cell_type": "code",
   "execution_count": 4,
   "outputs": [
    {
     "name": "stdout",
     "output_type": "stream",
     "text": [
      "277.214 ms ± 0 ns per loop (mean ± std. dev. of 1 run, 100 loops each)\n"
     ]
    }
   ],
   "source": [
    "%timeit -n 100 -r 1 -p 6 compute(1000, 1000)"
   ],
   "metadata": {
    "collapsed": false,
    "pycharm": {
     "name": "#%%\n"
    }
   }
  }
 ],
 "metadata": {
  "kernelspec": {
   "display_name": "Python 3",
   "language": "python",
   "name": "python3"
  },
  "language_info": {
   "codemirror_mode": {
    "name": "ipython",
    "version": 2
   },
   "file_extension": ".py",
   "mimetype": "text/x-python",
   "name": "python",
   "nbconvert_exporter": "python",
   "pygments_lexer": "ipython2",
   "version": "2.7.6"
  }
 },
 "nbformat": 4,
 "nbformat_minor": 0
}