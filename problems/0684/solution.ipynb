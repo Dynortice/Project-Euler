{
 "cells": [
  {
   "cell_type": "markdown",
   "metadata": {
    "collapsed": true,
    "pycharm": {
     "name": "#%% md\n"
    }
   },
   "source": [
    "# Problem 684\n",
    "## Inverse Digit Sum\n",
    "\n",
    "Define $s(n)$ to be the smallest number that has digit sum of $n$. For example $s(10) = 19$\n",
    "\n",
    "Let $S(k) = \\displaystyle\\sum_{n=1}^k s(n)$. You are given $S(20) = 1074$.\n",
    "\n",
    "Further, let $f_i$ be the Fibonacci sequence defined by $f_0 = 0$, $f_1 = 1$ and $f_i = f_{i - 2} + f_{i - 1}$ for all $i \\ge 2$.\n",
    "\n",
    "Find $\\displaystyle\\sum_{i = 2}^{90} S(f_i)$. Give your answer modulo $1000000007$.\n",
    "\n",
    "OEIS Sequence: [A051885](https://oeis.org/A051885)\n",
    "\n",
    "## Solution\n",
    "\n",
    "The smallest numbers whose sum of digits is $n$, are numbers of the form $10 ^ j a - 1$ with $a \\in (1, 9)$ and $j \\ge 0$.\n",
    "\n",
    "This solution uses the following formula:\n",
    "\n",
    "$$\\sum_{j=0}^b 10 ^ j a - 1 = \\frac{10 ^ {b + 1}a - a - 9b - 9}{9}$$\n",
    "\n",
    "By letting $a = (1, 9)$, we get:\n",
    "\n",
    "$$R(k) = \\sum _ {a = 1} ^ 9 \\sum _ {j = 0} ^ b 10 ^ j a - 1 = 2 (2 ^ b 5 ^ {b + 2} - 7) - 9b$$\n",
    "\n",
    "From $R(k)$, we get $S(k)$ as:\n",
    "\n",
    "$$S(k) = R(k) - \\sum _ {j = 2 + (k \\mod 9)} ^ 9 10 ^ b j - 1 = R(k) - \\frac{(10 - a) (10 ^ b (a + 9) - 2)}{2}$$\n",
    "\n",
    "Simplifying the formula, we get:\n",
    "\n",
    "$$S(k) = \\frac{10 ^ b(a (a - 1) + 10) - 2 (a + 9b + 4)}{2}$$\n",
    "\n",
    "where:\n",
    "\n",
    "$$a = k \\mod 9 + 2$$\n",
    "\n",
    "$$b = \\lfloor \\frac{k}{9} \\rfloor$$"
   ]
  },
  {
   "cell_type": "code",
   "execution_count": 1,
   "outputs": [],
   "source": [
    "from euler.big_int import BigInt\n",
    "from euler.calculus import fibonacci_numbers"
   ],
   "metadata": {
    "collapsed": false,
    "pycharm": {
     "name": "#%%\n"
    }
   }
  },
  {
   "cell_type": "code",
   "execution_count": 2,
   "outputs": [],
   "source": [
    "def compute(n: int, m: int) -> BigInt:\n",
    "    inverted_modulo = pow(2, -1, m)\n",
    "    result = BigInt(0)\n",
    "    for f in fibonacci_numbers(n):\n",
    "        a, b = f % 9 + 2, f // 9\n",
    "        result += (((a * (a - 1) + 10) * pow(BigInt(10), b, m) - 2 * (a + 9 * b + 4)) * inverted_modulo) % m\n",
    "    return result % m - 1"
   ],
   "metadata": {
    "collapsed": false,
    "pycharm": {
     "name": "#%%\n"
    }
   }
  },
  {
   "cell_type": "code",
   "execution_count": 3,
   "outputs": [
    {
     "data": {
      "text/plain": "922058210"
     },
     "execution_count": 3,
     "metadata": {},
     "output_type": "execute_result"
    }
   ],
   "source": [
    "compute(90, 1000000007)"
   ],
   "metadata": {
    "collapsed": false,
    "pycharm": {
     "name": "#%%\n"
    }
   }
  },
  {
   "cell_type": "code",
   "execution_count": 4,
   "outputs": [
    {
     "name": "stdout",
     "output_type": "stream",
     "text": [
      "4.29635 s ± 0 ns per loop (mean ± std. dev. of 1 run, 100 loops each)\n"
     ]
    }
   ],
   "source": [
    "%timeit -n 100 -r 1 -p 6 compute(90, 1000000007)"
   ],
   "metadata": {
    "collapsed": false,
    "pycharm": {
     "name": "#%%\n"
    }
   }
  }
 ],
 "metadata": {
  "kernelspec": {
   "display_name": "Python 3",
   "language": "python",
   "name": "python3"
  },
  "language_info": {
   "codemirror_mode": {
    "name": "ipython",
    "version": 2
   },
   "file_extension": ".py",
   "mimetype": "text/x-python",
   "name": "python",
   "nbconvert_exporter": "python",
   "pygments_lexer": "ipython2",
   "version": "2.7.6"
  }
 },
 "nbformat": 4,
 "nbformat_minor": 0
}