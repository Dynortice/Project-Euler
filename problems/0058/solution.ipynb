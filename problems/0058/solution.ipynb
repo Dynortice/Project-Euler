{
 "cells": [
  {
   "cell_type": "markdown",
   "metadata": {
    "collapsed": true,
    "pycharm": {
     "name": "#%% md\n"
    }
   },
   "source": [
    "# Problem 58\n",
    "## Spiral primes\n",
    "\n",
    "Starting with $1$ and spiralling anticlockwise in the following way, a square spiral with side length $7$ is formed.\n",
    "```\n",
    "37 36 35 34 33 32 31\n",
    "38 17 16 15 14 13 30\n",
    "39 18  5  4  3 12 29\n",
    "40 19  6  1  2 11 28\n",
    "41 20  7  8  9 10 27\n",
    "42 21 22 23 24 25 26\n",
    "43 44 45 46 47 48 49\n",
    "```\n",
    "It is interesting to note that the odd squares lie along the bottom right diagonal, but what is more interesting is that $8$ out of the $13$ numbers lying along both diagonals are prime; that is, a ratio of $\\frac{8}{13} \\approx 62\\%$.\n",
    "\n",
    "If one complete new layer is wrapped around the spiral above, a square spiral with side length $9$ will be formed. If this process is continued, what is the side length of the square spiral for which the ratio of primes along both diagonals first falls below $10\\%$?\n",
    "\n",
    "OEIS Sequence: [A200975](https://oeis.org/A200975)\n",
    "\n",
    "## Solution"
   ]
  },
  {
   "cell_type": "code",
   "execution_count": 1,
   "outputs": [],
   "source": [
    "from math import sqrt"
   ],
   "metadata": {
    "collapsed": false,
    "pycharm": {
     "name": "#%%\n"
    }
   }
  },
  {
   "cell_type": "code",
   "execution_count": 2,
   "outputs": [],
   "source": [
    "def compute(n: float) -> int:\n",
    "    def is_prime(x: int) -> bool:\n",
    "        if x == 3:\n",
    "            return True\n",
    "        if not ((x % 6 == 1) or (x % 6 == 5)):\n",
    "            return False\n",
    "        for i in range(6, int(sqrt(x)), 12):\n",
    "            if (x % (i - 1) == 0) or (x % (i + 1) == 0) or (x % (i + 7) == 0):\n",
    "                return False\n",
    "        return True\n",
    "    j = 3\n",
    "    primes = 0\n",
    "    while True:\n",
    "        k = (j - 3) * j + 3\n",
    "        primes += sum([is_prime(k), is_prime(k + j - 1), is_prime(k + 2 * j - 2)])\n",
    "        if primes / (2 * j - 1) < n:\n",
    "            return j\n",
    "        j += 2"
   ],
   "metadata": {
    "collapsed": false,
    "pycharm": {
     "name": "#%%\n"
    }
   }
  },
  {
   "cell_type": "code",
   "execution_count": 3,
   "outputs": [
    {
     "data": {
      "text/plain": "26241"
     },
     "execution_count": 3,
     "metadata": {},
     "output_type": "execute_result"
    }
   ],
   "source": [
    "compute(0.1)"
   ],
   "metadata": {
    "collapsed": false,
    "pycharm": {
     "name": "#%%\n"
    }
   }
  },
  {
   "cell_type": "code",
   "execution_count": 4,
   "outputs": [
    {
     "name": "stdout",
     "output_type": "stream",
     "text": [
      "2.92736 s ± 0 ns per loop (mean ± std. dev. of 1 run, 100 loops each)\n"
     ]
    }
   ],
   "source": [
    "%timeit -n 100 -r 1 -p 6 compute(0.1)"
   ],
   "metadata": {
    "collapsed": false,
    "pycharm": {
     "name": "#%%\n"
    }
   }
  }
 ],
 "metadata": {
  "kernelspec": {
   "display_name": "Python 3",
   "language": "python",
   "name": "python3"
  },
  "language_info": {
   "codemirror_mode": {
    "name": "ipython",
    "version": 2
   },
   "file_extension": ".py",
   "mimetype": "text/x-python",
   "name": "python",
   "nbconvert_exporter": "python",
   "pygments_lexer": "ipython2",
   "version": "2.7.6"
  }
 },
 "nbformat": 4,
 "nbformat_minor": 0
}