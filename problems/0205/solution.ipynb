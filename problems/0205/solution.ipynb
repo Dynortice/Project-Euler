{
 "cells": [
  {
   "cell_type": "markdown",
   "metadata": {
    "collapsed": true,
    "pycharm": {
     "name": "#%% md\n"
    }
   },
   "source": [
    "# Problem 205\n",
    "## Dice Game\n",
    "\n",
    "Peter has nine four-sided (pyramidal) dice, each with faces numbered $1, 2, 3, 4$.\n",
    "\n",
    "Colin has six six-sided (cubic) dice, each with faces numbered $1, 2, 3, 4, 5, 6$.\n",
    "\n",
    "Peter and Colin roll their dice and compare totals: the highest total wins. The result is a draw if the totals are equal.\n",
    "\n",
    "What is the probability that Pyramidal Pete beats Cubic Colin? Give your answer rounded to seven decimal places in the form $0.abcdefg$.\n",
    "\n",
    "## Solution\n",
    "\n",
    "To get combinations of totals $p$ for $n$ $s$-sided dice we'll use next formula:\n",
    "\n",
    "$$F(p, n, s) = \\displaystyle\\sum_{k = 0}^{\\displaystyle\\lfloor\\frac{p - n}{s}\\displaystyle\\rfloor} (-1)^k \\binom{n}{k} \\binom{p - sk - 1}{n - 1}$$"
   ]
  },
  {
   "cell_type": "code",
   "execution_count": 1,
   "outputs": [],
   "source": [
    "from euler.game import dice_combinations\n",
    "from euler.math import fast_max"
   ],
   "metadata": {
    "collapsed": false,
    "pycharm": {
     "name": "#%%\n"
    }
   }
  },
  {
   "cell_type": "code",
   "execution_count": 2,
   "outputs": [],
   "source": [
    "def compute(a: tuple[int, int], b: tuple[int, int]) -> float:\n",
    "    limit = fast_max(a[0] * a[1], b[0] * b[1])\n",
    "    looses = [0] * (limit + 1)\n",
    "    result = 0\n",
    "    for i in range(b[0], b[0] * b[1] + 1):\n",
    "        looses[i] = dice_combinations(i, *b) + looses[i - 1]\n",
    "    for i in range(a[0], a[0] * a[1] + 1):\n",
    "        result += dice_combinations(i, *a) * looses[i - 1]\n",
    "    return round(result / a[1] ** a[0] / b[1] ** b[0], 7)"
   ],
   "metadata": {
    "collapsed": false,
    "pycharm": {
     "name": "#%%\n"
    }
   }
  },
  {
   "cell_type": "code",
   "execution_count": 3,
   "outputs": [
    {
     "data": {
      "text/plain": "0.5731441"
     },
     "execution_count": 3,
     "metadata": {},
     "output_type": "execute_result"
    }
   ],
   "source": [
    "compute((9, 4), (6, 6))"
   ],
   "metadata": {
    "collapsed": false,
    "pycharm": {
     "name": "#%%\n"
    }
   }
  },
  {
   "cell_type": "code",
   "execution_count": 4,
   "outputs": [
    {
     "name": "stdout",
     "output_type": "stream",
     "text": [
      "155.624 µs ± 0 ns per loop (mean ± std. dev. of 1 run, 100 loops each)\n"
     ]
    }
   ],
   "source": [
    "%timeit -n 100 -r 1 -p 6 compute((9, 4), (6, 6))"
   ],
   "metadata": {
    "collapsed": false,
    "pycharm": {
     "name": "#%%\n"
    }
   }
  }
 ],
 "metadata": {
  "kernelspec": {
   "display_name": "Python 3",
   "language": "python",
   "name": "python3"
  },
  "language_info": {
   "codemirror_mode": {
    "name": "ipython",
    "version": 2
   },
   "file_extension": ".py",
   "mimetype": "text/x-python",
   "name": "python",
   "nbconvert_exporter": "python",
   "pygments_lexer": "ipython2",
   "version": "2.7.6"
  }
 },
 "nbformat": 4,
 "nbformat_minor": 0
}