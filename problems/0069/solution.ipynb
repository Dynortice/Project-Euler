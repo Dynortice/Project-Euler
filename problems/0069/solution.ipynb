{
 "cells": [
  {
   "cell_type": "markdown",
   "metadata": {
    "collapsed": true,
    "pycharm": {
     "name": "#%% md\n"
    }
   },
   "source": [
    "# Problem 69\n",
    "## Totient maximum\n",
    "\n",
    "Euler's Totient function, $\\phi(n)$ [sometimes called the phi function], is used to determine the number of numbers less than $n$ which are relatively prime to $n$. For example, as $1$, $2$, $4$, $5$, $7$, and $8$, are all less than nine and relatively prime to nine, $\\phi(9) = 6$.\n",
    "\n",
    "$n$ | Relatively Prime | $\\phi(n)$ | $\\frac{n}{\\phi(n)}$\n",
    ":-: | :-: | :-: | :-:\n",
    "$2$ | $1$ | $1$ | $2$\n",
    "$3$ | $1$, $2$ | $2$ | $1.5$\n",
    "$4$ | $1$, $3$ | $2$ | $2$\n",
    "$5$ | $1$, $2$, $3$, $4$ | $4$ | $1.25$\n",
    "$6$ | $1$, $5$ | $2$ | $3$\n",
    "$7$ | $1$, $2$, $3$, $4$, $5$, $6$ | $6$ | $1.1(6)$\n",
    "$8$ | $1$, $3$, $5$, $7$ | $4$ | $2$\n",
    "$9$ | $1$, $2$, $4$, $5$, $7$, $8$ | $6$ | $1.5$\n",
    "$10$ | $1$, $3$, $7$, $9$ | $4$ | $2.5$\n",
    "\n",
    "It can be seen that $n = 6$ produces a maximum $\\frac{n}{\\phi(n)}$ for $n \\le 10$.\n",
    "\n",
    "Find the value of $n \\le 1000000$ for which $\\frac{n}{\\phi(n)}$ is a maximum.\n",
    "\n",
    "OEIS Sequence: [A000010](https://oeis.org/A000010)\n",
    "\n",
    "## Solution\n",
    "\n",
    "Euler's Totient function can be defined with [formula](https://en.wikipedia.org/wiki/Euler's_totient_function):\n",
    "\n",
    "$$\\phi(n) = n \\prod_{p | n} \\left(1 - \\frac{1}{p} \\right)$$\n",
    "\n",
    "So basically that means we are trying to maximize the following function:\n",
    "\n",
    "$$\\frac{n}{\\phi(n)} = \\frac{n}{n \\displaystyle\\prod_{p | n} \\left(1 - \\frac{1}{p} \\right)} = \\frac{1}{\\displaystyle\\prod_{p | n} \\left(1 - \\frac{1}{p} \\right)} = \\prod_{p | n} \\frac{p}{p - 1}$$"
   ]
  },
  {
   "cell_type": "code",
   "execution_count": 1,
   "outputs": [],
   "source": [
    "from math import isqrt\n",
    "from euler.primes import prime_numbers"
   ],
   "metadata": {
    "collapsed": false,
    "pycharm": {
     "name": "#%%\n"
    }
   }
  },
  {
   "cell_type": "code",
   "execution_count": 2,
   "outputs": [],
   "source": [
    "def compute(n: int) -> int:\n",
    "    result = 1\n",
    "    for prime in prime_numbers(isqrt(n)):\n",
    "        result *= prime\n",
    "        if result * prime >= n:\n",
    "            return result"
   ],
   "metadata": {
    "collapsed": false,
    "pycharm": {
     "name": "#%%\n"
    }
   }
  },
  {
   "cell_type": "code",
   "execution_count": 3,
   "outputs": [
    {
     "data": {
      "text/plain": "6"
     },
     "execution_count": 3,
     "metadata": {},
     "output_type": "execute_result"
    }
   ],
   "source": [
    "compute(10)"
   ],
   "metadata": {
    "collapsed": false,
    "pycharm": {
     "name": "#%%\n"
    }
   }
  },
  {
   "cell_type": "code",
   "execution_count": 4,
   "outputs": [
    {
     "data": {
      "text/plain": "510510"
     },
     "execution_count": 4,
     "metadata": {},
     "output_type": "execute_result"
    }
   ],
   "source": [
    "compute(1_000_000)"
   ],
   "metadata": {
    "collapsed": false,
    "pycharm": {
     "name": "#%%\n"
    }
   }
  },
  {
   "cell_type": "code",
   "execution_count": 5,
   "outputs": [
    {
     "name": "stdout",
     "output_type": "stream",
     "text": [
      "74.927 µs ± 0 ns per loop (mean ± std. dev. of 1 run, 100 loops each)\n"
     ]
    }
   ],
   "source": [
    "%timeit -n 100 -r 1 -p 6 compute(1_000_000)"
   ],
   "metadata": {
    "collapsed": false,
    "pycharm": {
     "name": "#%%\n"
    }
   }
  }
 ],
 "metadata": {
  "kernelspec": {
   "display_name": "Python 3",
   "language": "python",
   "name": "python3"
  },
  "language_info": {
   "codemirror_mode": {
    "name": "ipython",
    "version": 2
   },
   "file_extension": ".py",
   "mimetype": "text/x-python",
   "name": "python",
   "nbconvert_exporter": "python",
   "pygments_lexer": "ipython2",
   "version": "2.7.6"
  }
 },
 "nbformat": 4,
 "nbformat_minor": 0
}