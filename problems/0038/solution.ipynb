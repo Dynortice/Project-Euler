{
 "cells": [
  {
   "cell_type": "markdown",
   "metadata": {
    "collapsed": true,
    "pycharm": {
     "name": "#%% md\n"
    }
   },
   "source": [
    "# Problem 38\n",
    "## Pandigital multiplies\n",
    "\n",
    "Take the number $192$ and multiply it by each of $1, 2$, and $3$:\n",
    "\n",
    "$$192 \\times 1 = 192$$\n",
    "\n",
    "$$192 \\times 2 = 384$$\n",
    "\n",
    "$$192 \\times 3 = 576$$\n",
    "\n",
    "By concatenating each product we get the $1$ to $9$ pandigital, $192384576$. We will call $192384576$ the concatenated product of $192$ and $(1,2,3)$\n",
    "\n",
    "The same can be achieved by starting with $9$ and multiplying by $1, 2, 3, 4$, and $5$, giving the pandigital, $918273645$, which is the concatenated product of $9$ and $(1,2,3,4,5)$.\n",
    "\n",
    "What is the largest $1$ to $9$ pandigital $9$-digit number that can be formed as the concatenated product of an integer with $(1,2, ... , n)$ where $n > 1$?\n",
    "\n",
    "## Solution\n",
    "\n",
    "We need to find a $9$-digit pandigital number greater than the given $918273645$, which implies that the first digit of the concatenated number starts with 9 as well. Since $n > 1$, the trivial solution of $987654321 \\times 1$ is not allowed and with $n$ being at least two, the maximum digit count of the fixed number $x$ is forced to be $\\le 4$.\n",
    "\n",
    "If the fixed number $x$ is a two-digit number, all resulting numbers will have $<9$ digits with $n \\le 3$ and $>9$ with $n \\ge 4$, which allows us to exclude the range $90 \\le x < 100$. If the fixed number $x$ is a three-digit number, all resulting numbers will be $\\ne 9$ as well, which excludes the range $900 \\le x < 1000$. Finally, if $x$ is a four-digit number, we will get a $9$ digit number, which leaves us with the first rough valid range of $9000 \\le x < 10000$. This interval can be reduced to valid pandigital values, which results in an interval of $9123 \\le x \\le 9876$. If we check again the length argument, we can lift the lower bound to $9213$, since $9123$ will not result in a $9$ digit number, which gives the new interval $9213 \\le x \\le 9876$.\n",
    "\n",
    "When digging a little deeper, we see that if the second digit is $>4$, a carry over happens and two $9$s are produced in the solution. A similar observation shows that non of the digits can be $1$ since we will otherwise end up with two $1$s in the solution. This allows us to further reduce the search space to $9234 \\le x \\le 9487$.\n",
    "\n",
    "Multiplied by two, the interval is $18468 \\le x \\le 18974$, which says that concatenating $x$ and $2x$ can be done with $100000x + 2x$ or better $100002x$."
   ]
  },
  {
   "cell_type": "code",
   "execution_count": 1,
   "outputs": [],
   "source": [
    "def compute() -> int:\n",
    "    digits = set(map(str, range(1, 10)))\n",
    "    for i in reversed(range(9234, 9488)):\n",
    "        candidate = i * 100002\n",
    "        if set(str(i * 100002)) == digits:\n",
    "            return candidate"
   ],
   "metadata": {
    "collapsed": false,
    "pycharm": {
     "name": "#%%\n"
    }
   }
  },
  {
   "cell_type": "code",
   "execution_count": 2,
   "outputs": [
    {
     "data": {
      "text/plain": "932718654"
     },
     "execution_count": 2,
     "metadata": {},
     "output_type": "execute_result"
    }
   ],
   "source": [
    "compute()"
   ],
   "metadata": {
    "collapsed": false,
    "pycharm": {
     "name": "#%%\n"
    }
   }
  },
  {
   "cell_type": "code",
   "execution_count": 3,
   "outputs": [
    {
     "name": "stdout",
     "output_type": "stream",
     "text": [
      "131.759 µs ± 0 ns per loop (mean ± std. dev. of 1 run, 100 loops each)\n"
     ]
    }
   ],
   "source": [
    "%timeit -n 100 -r 1 -p 6 compute()"
   ],
   "metadata": {
    "collapsed": false,
    "pycharm": {
     "name": "#%%\n"
    }
   }
  }
 ],
 "metadata": {
  "kernelspec": {
   "display_name": "Python 3",
   "language": "python",
   "name": "python3"
  },
  "language_info": {
   "codemirror_mode": {
    "name": "ipython",
    "version": 2
   },
   "file_extension": ".py",
   "mimetype": "text/x-python",
   "name": "python",
   "nbconvert_exporter": "python",
   "pygments_lexer": "ipython2",
   "version": "2.7.6"
  }
 },
 "nbformat": 4,
 "nbformat_minor": 0
}