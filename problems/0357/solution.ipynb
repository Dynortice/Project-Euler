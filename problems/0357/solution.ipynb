{
 "cells": [
  {
   "cell_type": "markdown",
   "metadata": {
    "collapsed": true,
    "pycharm": {
     "name": "#%% md\n"
    }
   },
   "source": [
    "# Problem 357\n",
    "## Prime generating integers\n",
    "\n",
    "Consider the divisors of $30$: $1$, $2$, $3$, $5$, $6$, $10$, $15$, $30$. It can be seen that for every divisor $d$ of $30$, $d + \\frac{30}{d}$ is prime.\n",
    "\n",
    "Find the sum of all positive integers $n$ not exceeding $100000000$ such that for every divisor $d$ of $n$, $d + \\frac{n}{d}$ is prime.\n",
    "\n",
    "OEIS Sequence: [A080715](https://oeis.org/A080715)\n",
    "\n",
    "# Solution"
   ]
  },
  {
   "cell_type": "code",
   "execution_count": 1,
   "outputs": [],
   "source": [
    "from math import sqrt\n",
    "from euler.primes import prime_sieve"
   ],
   "metadata": {
    "collapsed": false,
    "pycharm": {
     "name": "#%%\n"
    }
   }
  },
  {
   "cell_type": "code",
   "execution_count": 2,
   "outputs": [],
   "source": [
    "def compute(n: int) -> int:\n",
    "    sieve = prime_sieve(n)\n",
    "    candidates = [i - 1 for i, is_prime in enumerate(sieve) if is_prime and (i - 1) % 4 != 0]\n",
    "    result = 0\n",
    "    for candidate in candidates:\n",
    "        if not sieve[candidate // 2 + 2]:\n",
    "            continue\n",
    "        for i in range(3, int(sqrt(n)) + 1):\n",
    "            if candidate % i != 0:\n",
    "                continue\n",
    "            elif not sieve[candidate // i + i]:\n",
    "                break\n",
    "        else:\n",
    "            result += candidate\n",
    "    return result"
   ],
   "metadata": {
    "collapsed": false,
    "pycharm": {
     "name": "#%%\n"
    }
   }
  },
  {
   "cell_type": "code",
   "execution_count": 3,
   "outputs": [
    {
     "data": {
      "text/plain": "1739023853137"
     },
     "execution_count": 3,
     "metadata": {},
     "output_type": "execute_result"
    }
   ],
   "source": [
    "compute(100_000_000)"
   ],
   "metadata": {
    "collapsed": false,
    "pycharm": {
     "name": "#%%\n"
    }
   }
  },
  {
   "cell_type": "code",
   "execution_count": 4,
   "outputs": [
    {
     "name": "stdout",
     "output_type": "stream",
     "text": [
      "34.4245 s ± 0 ns per loop (mean ± std. dev. of 1 run, 100 loops each)\n"
     ]
    }
   ],
   "source": [
    "%timeit -n 100 -r 1 -p 6 compute(100_000_000)"
   ],
   "metadata": {
    "collapsed": false,
    "pycharm": {
     "name": "#%%\n"
    }
   }
  }
 ],
 "metadata": {
  "kernelspec": {
   "display_name": "Python 3",
   "language": "python",
   "name": "python3"
  },
  "language_info": {
   "codemirror_mode": {
    "name": "ipython",
    "version": 2
   },
   "file_extension": ".py",
   "mimetype": "text/x-python",
   "name": "python",
   "nbconvert_exporter": "python",
   "pygments_lexer": "ipython2",
   "version": "2.7.6"
  }
 },
 "nbformat": 4,
 "nbformat_minor": 0
}