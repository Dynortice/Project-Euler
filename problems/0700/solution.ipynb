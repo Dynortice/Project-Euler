{
 "cells": [
  {
   "cell_type": "markdown",
   "metadata": {
    "collapsed": true,
    "pycharm": {
     "name": "#%% md\n"
    }
   },
   "source": [
    "# Problem 700\n",
    "## Eulercoin\n",
    "\n",
    "Leonhard Euler was born on 15 April 1707.\n",
    "\n",
    "Consider the sequence $1504170715041707n \\mod 4503599627370517$.\n",
    "\n",
    "An element of this sequence is defined to be an Eulercoin if it is strictly smaller than all previously found Eulercoins.\n",
    "\n",
    "For example, the first term is $1504170715041707$ which is the first Eulercoin. The second term is $3008341430083414$ which is greater than $1504170715041707$ so is not an Eulercoin. However, the third term is $8912517754604$ which is small enough to be a new Eulercoin.\n",
    "\n",
    "The sum of the first $2$ Eulercoins is therefore $1513083232796311$.\n",
    "\n",
    "Find the sum of all Eulercoins.\n",
    "\n",
    "## Solution"
   ]
  },
  {
   "cell_type": "code",
   "execution_count": 1,
   "outputs": [],
   "source": [
    "def compute() -> int:\n",
    "    modulo = 4503599627370517\n",
    "    min_value = max_value = result = 1504170715041707\n",
    "    candidate = 0\n",
    "    while candidate != 1:\n",
    "        candidate = (min_value + max_value) % modulo\n",
    "        if candidate > max_value:\n",
    "            max_value = candidate\n",
    "        elif candidate < min_value:\n",
    "            min_value = candidate\n",
    "            result += candidate\n",
    "    return result"
   ],
   "metadata": {
    "collapsed": false,
    "pycharm": {
     "name": "#%%\n"
    }
   }
  },
  {
   "cell_type": "code",
   "execution_count": 2,
   "outputs": [
    {
     "data": {
      "text/plain": "1517926517777556"
     },
     "execution_count": 2,
     "metadata": {},
     "output_type": "execute_result"
    }
   ],
   "source": [
    "compute()"
   ],
   "metadata": {
    "collapsed": false,
    "pycharm": {
     "name": "#%%\n"
    }
   }
  },
  {
   "cell_type": "code",
   "execution_count": 3,
   "outputs": [
    {
     "name": "stdout",
     "output_type": "stream",
     "text": [
      "39.969 µs ± 0 ns per loop (mean ± std. dev. of 1 run, 100 loops each)\n"
     ]
    }
   ],
   "source": [
    "%timeit -n 100 -r 1 -p 6 compute()"
   ],
   "metadata": {
    "collapsed": false,
    "pycharm": {
     "name": "#%%\n"
    }
   }
  }
 ],
 "metadata": {
  "kernelspec": {
   "display_name": "Python 3",
   "language": "python",
   "name": "python3"
  },
  "language_info": {
   "codemirror_mode": {
    "name": "ipython",
    "version": 2
   },
   "file_extension": ".py",
   "mimetype": "text/x-python",
   "name": "python",
   "nbconvert_exporter": "python",
   "pygments_lexer": "ipython2",
   "version": "2.7.6"
  }
 },
 "nbformat": 4,
 "nbformat_minor": 0
}