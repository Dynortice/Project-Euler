{
 "cells": [
  {
   "cell_type": "markdown",
   "metadata": {
    "collapsed": true,
    "pycharm": {
     "name": "#%% md\n"
    }
   },
   "source": [
    "# Problem 26\n",
    "## Reciprocal cycles\n",
    "\n",
    "A unit fraction contains $1$ in the numerator. The decimal representation of the unit fractions with denominators $2$ to $10$ are given:\n",
    "\n",
    "$$^1/_2 = 0.5$$\n",
    "\n",
    "$$^1/_3 = 0.(3)$$\n",
    "\n",
    "$$^1/_4 = 0.25$$\n",
    "\n",
    "$$^1/_5 = 0.2$$\n",
    "\n",
    "$$^1/_6 = 0.1(6)$$\n",
    "\n",
    "$$^1/_7 = 0.(142857)$$\n",
    "\n",
    "$$^1/_8 = 0.125$$\n",
    "\n",
    "$$^1/_9 = 0.(1)$$\n",
    "\n",
    "$$^1/_{10} = 0.1$$\n",
    "\n",
    "Where $0.1(6$) means $0.166666...$, and has a $1$-digit recurring cycle. It can be seen that $^1/_7$ has a $6$-digit recurring cycle.\n",
    "\n",
    "Find the value of $d < 1000$ for which $^1/_d$ contains the longest recurring cycle in its decimal fraction part.\n",
    "\n",
    "## Solution\n",
    "For this problem we could use [multiplicative order](https://en.wikipedia.org/wiki/Multiplicative_order) of 10 modulo prime number."
   ]
  },
  {
   "cell_type": "code",
   "execution_count": 1,
   "outputs": [],
   "source": [
    "from euler.primes import get_primes\n",
    "from euler.numbers import multiplicative_order"
   ],
   "metadata": {
    "collapsed": false,
    "pycharm": {
     "name": "#%%\n"
    }
   }
  },
  {
   "cell_type": "code",
   "execution_count": 2,
   "outputs": [],
   "source": [
    "def compute(n: int) -> int:\n",
    "    primes = get_primes(n)[2:] # get primes from 7\n",
    "    max_cycle, result = 0, 0\n",
    "    for prime in primes:\n",
    "        cycle = multiplicative_order(10, prime)\n",
    "        if cycle > max_cycle:\n",
    "            max_cycle, result = cycle, prime\n",
    "    return result"
   ],
   "metadata": {
    "collapsed": false,
    "pycharm": {
     "name": "#%%\n"
    }
   }
  },
  {
   "cell_type": "code",
   "execution_count": 3,
   "outputs": [
    {
     "data": {
      "text/plain": "7"
     },
     "execution_count": 3,
     "metadata": {},
     "output_type": "execute_result"
    }
   ],
   "source": [
    "compute(10)"
   ],
   "metadata": {
    "collapsed": false,
    "pycharm": {
     "name": "#%%\n"
    }
   }
  },
  {
   "cell_type": "code",
   "execution_count": 4,
   "outputs": [
    {
     "data": {
      "text/plain": "983"
     },
     "execution_count": 4,
     "metadata": {},
     "output_type": "execute_result"
    }
   ],
   "source": [
    "compute(1000)"
   ],
   "metadata": {
    "collapsed": false,
    "pycharm": {
     "name": "#%%\n"
    }
   }
  },
  {
   "cell_type": "code",
   "execution_count": 5,
   "outputs": [
    {
     "name": "stdout",
     "output_type": "stream",
     "text": [
      "7.45046 ms ± 0 ns per loop (mean ± std. dev. of 1 run, 100 loops each)\n"
     ]
    }
   ],
   "source": [
    "%timeit -n 100 -r 1 -p 6 compute(1000)"
   ],
   "metadata": {
    "collapsed": false,
    "pycharm": {
     "name": "#%%\n"
    }
   }
  }
 ],
 "metadata": {
  "kernelspec": {
   "display_name": "Python 3",
   "language": "python",
   "name": "python3"
  },
  "language_info": {
   "codemirror_mode": {
    "name": "ipython",
    "version": 2
   },
   "file_extension": ".py",
   "mimetype": "text/x-python",
   "name": "python",
   "nbconvert_exporter": "python",
   "pygments_lexer": "ipython2",
   "version": "2.7.6"
  }
 },
 "nbformat": 4,
 "nbformat_minor": 0
}