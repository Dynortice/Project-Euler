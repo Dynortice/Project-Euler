{
 "cells": [
  {
   "cell_type": "markdown",
   "metadata": {
    "collapsed": true,
    "pycharm": {
     "name": "#%% md\n"
    }
   },
   "source": [
    "# Problem 57\n",
    "## Square root convergents\n",
    "\n",
    "It is possible to show that the square root of two can be expressed as an infinite continued fraction.\n",
    "\n",
    "$$\\sqrt{2} = 1 + \\frac{1}{2 + \\frac{1}{2 + \\frac{1}{2 + ...}}}$$\n",
    "\n",
    "By expanding this for the first four iterations, we get:\n",
    "\n",
    "$$1 + \\frac{1}{2} = \\frac{3}{2} = 1.5$$\n",
    "\n",
    "$$1 + \\frac{1}{2 + \\frac{1}{2}} = \\frac{7}{5} = 1.4$$\n",
    "\n",
    "$$1 + \\frac{1}{2 + \\frac{1}{2 + \\frac{1}{2}}} = \\frac{17}{12} = 1.41666...$$\n",
    "\n",
    "$$1 + \\frac{1}{2 + \\frac{1}{2 + \\frac{1}{2 + \\frac{1}{2}}}} = \\frac{41}{29} = 1.41379...$$\n",
    "\n",
    "The next three expansions are $\\frac{99}{70}, \\frac{239}{169}$ and $\\frac{577}{408}$, but the eight expansion, $\\frac{1393}{985}$, is the first example where the number of digits in the numerator exceeds the number of digits in the denominator.\n",
    "\n",
    "In the first one-thousand expansions, how many fractions contain a numerator with more digits than the denominator?\n",
    "\n",
    "## Solution"
   ]
  },
  {
   "cell_type": "code",
   "execution_count": 1,
   "outputs": [],
   "source": [
    "from euler.big_int import BigInt"
   ],
   "metadata": {
    "collapsed": false,
    "pycharm": {
     "name": "#%%\n"
    }
   }
  },
  {
   "cell_type": "code",
   "execution_count": 2,
   "outputs": [],
   "source": [
    "def compute(d: int, n: int) -> int:\n",
    "    numerator, denominator = BigInt(1), BigInt(1)\n",
    "    a, b = d, d - 1\n",
    "    result = 0\n",
    "    for _ in range(n):\n",
    "        numerator, denominator = numerator + a * denominator, numerator + b * denominator\n",
    "        if len(numerator) != len(denominator):\n",
    "            result += 1\n",
    "    return result"
   ],
   "metadata": {
    "collapsed": false,
    "pycharm": {
     "name": "#%%\n"
    }
   }
  },
  {
   "cell_type": "code",
   "execution_count": 3,
   "outputs": [
    {
     "data": {
      "text/plain": "1"
     },
     "execution_count": 3,
     "metadata": {},
     "output_type": "execute_result"
    }
   ],
   "source": [
    "compute(2, 8)"
   ],
   "metadata": {
    "collapsed": false,
    "pycharm": {
     "name": "#%%\n"
    }
   }
  },
  {
   "cell_type": "code",
   "execution_count": 4,
   "outputs": [
    {
     "data": {
      "text/plain": "153"
     },
     "execution_count": 4,
     "metadata": {},
     "output_type": "execute_result"
    }
   ],
   "source": [
    "compute(2, 1000)"
   ],
   "metadata": {
    "collapsed": false,
    "pycharm": {
     "name": "#%%\n"
    }
   }
  },
  {
   "cell_type": "code",
   "execution_count": 5,
   "outputs": [
    {
     "name": "stdout",
     "output_type": "stream",
     "text": [
      "5.83856 s ± 0 ns per loop (mean ± std. dev. of 1 run, 100 loops each)\n"
     ]
    }
   ],
   "source": [
    "%timeit -n 100 -r 1 -p 6 compute(2, 1000)"
   ],
   "metadata": {
    "collapsed": false,
    "pycharm": {
     "name": "#%%\n"
    }
   }
  }
 ],
 "metadata": {
  "kernelspec": {
   "display_name": "Python 3",
   "language": "python",
   "name": "python3"
  },
  "language_info": {
   "codemirror_mode": {
    "name": "ipython",
    "version": 2
   },
   "file_extension": ".py",
   "mimetype": "text/x-python",
   "name": "python",
   "nbconvert_exporter": "python",
   "pygments_lexer": "ipython2",
   "version": "2.7.6"
  }
 },
 "nbformat": 4,
 "nbformat_minor": 0
}