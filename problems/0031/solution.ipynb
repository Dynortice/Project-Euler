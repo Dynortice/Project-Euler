{
 "cells": [
  {
   "cell_type": "markdown",
   "source": [
    "# Problem 31\n",
    "## Coin sums\n",
    "\n",
    "In the United Kingdom the currency is made up of pound (£) and pence (p). There are eight coins in general circulation:\n",
    "\n",
    "$1p, 2p, 5p, 10p, 20p, 50p, £1 (100p),$ and $£2 (200p)$.\n",
    "\n",
    "It is possible to make £$2$ in the following way:\n",
    "\n",
    "$1 \\times £1 + 1 \\times 50p + 2 \\times 20p + 1 \\times 5p + 1 \\times 2p + 3 \\times 1p$\n",
    "\n",
    "How many different ways can £$2$ be made using any number of coins?\n",
    "\n",
    "## Solution"
   ],
   "metadata": {
    "collapsed": false,
    "pycharm": {
     "name": "#%% md\n"
    }
   }
  },
  {
   "cell_type": "code",
   "execution_count": 1,
   "metadata": {
    "collapsed": true
   },
   "outputs": [],
   "source": [
    "def compute(coins: list, n: int) -> int:\n",
    "    combinations = [1] + [0] * n\n",
    "    for i in range(len(coins)):\n",
    "        for j in range(coins[i], n + 1):\n",
    "            combinations[j] += combinations[j - coins[i]]\n",
    "    return combinations[-1]"
   ]
  },
  {
   "cell_type": "code",
   "execution_count": 2,
   "outputs": [],
   "source": [
    "coin_list = [1, 2, 5, 10, 20, 50, 100, 200]"
   ],
   "metadata": {
    "collapsed": false,
    "pycharm": {
     "name": "#%%\n"
    }
   }
  },
  {
   "cell_type": "code",
   "execution_count": 3,
   "outputs": [
    {
     "data": {
      "text/plain": "73682"
     },
     "execution_count": 3,
     "metadata": {},
     "output_type": "execute_result"
    }
   ],
   "source": [
    "compute(coin_list, 200)"
   ],
   "metadata": {
    "collapsed": false,
    "pycharm": {
     "name": "#%%\n"
    }
   }
  },
  {
   "cell_type": "code",
   "execution_count": 4,
   "outputs": [
    {
     "name": "stdout",
     "output_type": "stream",
     "text": [
      "337.337 µs ± 0 ns per loop (mean ± std. dev. of 1 run, 100 loops each)\n"
     ]
    }
   ],
   "source": [
    "%timeit -n 100 -r 1 -p 6 compute(coin_list, 200)"
   ],
   "metadata": {
    "collapsed": false,
    "pycharm": {
     "name": "#%%\n"
    }
   }
  }
 ],
 "metadata": {
  "kernelspec": {
   "display_name": "Python 3",
   "language": "python",
   "name": "python3"
  },
  "language_info": {
   "codemirror_mode": {
    "name": "ipython",
    "version": 2
   },
   "file_extension": ".py",
   "mimetype": "text/x-python",
   "name": "python",
   "nbconvert_exporter": "python",
   "pygments_lexer": "ipython2",
   "version": "2.7.6"
  }
 },
 "nbformat": 4,
 "nbformat_minor": 0
}